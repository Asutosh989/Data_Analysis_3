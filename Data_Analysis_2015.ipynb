{
 "cells": [
  {
   "cell_type": "code",
   "execution_count": 1,
   "metadata": {
    "collapsed": true
   },
   "outputs": [],
   "source": [
    "import pandas as pd\n",
    "import numpy as np\n",
    "import matplotlib.pyplot as plt\n",
    "import calendar"
   ]
  },
  {
   "cell_type": "code",
   "execution_count": 2,
   "metadata": {
    "collapsed": true
   },
   "outputs": [],
   "source": [
    "df_2015 = pd.read_csv('2015_Call_a_bike.csv')"
   ]
  },
  {
   "cell_type": "code",
   "execution_count": 3,
   "metadata": {},
   "outputs": [
    {
     "data": {
      "text/plain": [
       "date                         4624826\n",
       "BOOKING_HAL_ID               4624826\n",
       "CATEGORY_HAL_ID              4624826\n",
       "VEHICLE_HAL_ID               4624826\n",
       "CUSTOMER_HAL_ID              4624826\n",
       "DATE_BOOKING                 4624826\n",
       "DATE_FROM                    4624826\n",
       "DATE_UNTIL                   4624826\n",
       "COMPUTE_EXTRA_BOOKING_FEE    4624826\n",
       "TRAVERSE_USE                 4624826\n",
       "DISTANCE                     4624826\n",
       "START_RENTAL_ZONE            3647769\n",
       "START_RENTAL_ZONE_HAL_ID     4473881\n",
       "END_RENTAL_ZONE              3640210\n",
       "END_RENTAL_ZONE_HAL_ID       4472788\n",
       "RENTAL_ZONE_HAL_SRC          4583703\n",
       "CITY_RENTAL_ZONE             4624826\n",
       "TECHNICAL_INCOME_CHANNEL     4559244\n",
       "dtype: int64"
      ]
     },
     "execution_count": 3,
     "metadata": {},
     "output_type": "execute_result"
    }
   ],
   "source": [
    "df_2015.count()"
   ]
  },
  {
   "cell_type": "code",
   "execution_count": 4,
   "metadata": {
    "scrolled": true
   },
   "outputs": [
    {
     "data": {
      "text/html": [
       "<div>\n",
       "<style>\n",
       "    .dataframe thead tr:only-child th {\n",
       "        text-align: right;\n",
       "    }\n",
       "\n",
       "    .dataframe thead th {\n",
       "        text-align: left;\n",
       "    }\n",
       "\n",
       "    .dataframe tbody tr th {\n",
       "        vertical-align: top;\n",
       "    }\n",
       "</style>\n",
       "<table border=\"1\" class=\"dataframe\">\n",
       "  <thead>\n",
       "    <tr style=\"text-align: right;\">\n",
       "      <th></th>\n",
       "      <th>date</th>\n",
       "      <th>BOOKING_HAL_ID</th>\n",
       "      <th>CATEGORY_HAL_ID</th>\n",
       "      <th>VEHICLE_HAL_ID</th>\n",
       "      <th>CUSTOMER_HAL_ID</th>\n",
       "      <th>DATE_BOOKING</th>\n",
       "      <th>DATE_FROM</th>\n",
       "      <th>DATE_UNTIL</th>\n",
       "      <th>COMPUTE_EXTRA_BOOKING_FEE</th>\n",
       "      <th>TRAVERSE_USE</th>\n",
       "      <th>DISTANCE</th>\n",
       "      <th>START_RENTAL_ZONE</th>\n",
       "      <th>START_RENTAL_ZONE_HAL_ID</th>\n",
       "      <th>END_RENTAL_ZONE</th>\n",
       "      <th>END_RENTAL_ZONE_HAL_ID</th>\n",
       "      <th>RENTAL_ZONE_HAL_SRC</th>\n",
       "      <th>CITY_RENTAL_ZONE</th>\n",
       "      <th>TECHNICAL_INCOME_CHANNEL</th>\n",
       "    </tr>\n",
       "  </thead>\n",
       "  <tbody>\n",
       "    <tr>\n",
       "      <th>0</th>\n",
       "      <td>2015-01-01 00:14:25</td>\n",
       "      <td>27688994</td>\n",
       "      <td>51000</td>\n",
       "      <td>119878</td>\n",
       "      <td>C2E89B7C538A6FBBA6FBDFB811C616D9A1B4064D</td>\n",
       "      <td>2015-01-01 00:14:25</td>\n",
       "      <td>2015-01-01 00:14:25</td>\n",
       "      <td>2015-01-01 00:27:26</td>\n",
       "      <td>Nein</td>\n",
       "      <td>Nein</td>\n",
       "      <td>0.0</td>\n",
       "      <td>Bahnhof Dammtor Süd / Marseiller Straße</td>\n",
       "      <td>138382.0</td>\n",
       "      <td>Osterstraße/Bismarckstraße</td>\n",
       "      <td>131642.0</td>\n",
       "      <td>Standort</td>\n",
       "      <td>Hamburg</td>\n",
       "      <td>Terminal HH_18 (-2528-)</td>\n",
       "    </tr>\n",
       "    <tr>\n",
       "      <th>1</th>\n",
       "      <td>2015-01-01 00:26:09</td>\n",
       "      <td>27689019</td>\n",
       "      <td>51000</td>\n",
       "      <td>120624</td>\n",
       "      <td>692C95821E9ACA58259CBB699810EAA84CF0A00E</td>\n",
       "      <td>2015-01-01 00:26:09</td>\n",
       "      <td>2015-01-01 00:26:09</td>\n",
       "      <td>2015-01-01 00:43:51</td>\n",
       "      <td>Nein</td>\n",
       "      <td>Nein</td>\n",
       "      <td>0.0</td>\n",
       "      <td>Eduard-Rhein-Ufer / Schwanenwik</td>\n",
       "      <td>140800.0</td>\n",
       "      <td>Burgstraße/Hammer Landstraße</td>\n",
       "      <td>131639.0</td>\n",
       "      <td>Standort</td>\n",
       "      <td>Hamburg</td>\n",
       "      <td>Terminal HH_31 (-2321-)</td>\n",
       "    </tr>\n",
       "    <tr>\n",
       "      <th>2</th>\n",
       "      <td>2015-01-01 00:44:37</td>\n",
       "      <td>27689089</td>\n",
       "      <td>51000</td>\n",
       "      <td>120017</td>\n",
       "      <td>81ABD7D72CD6397F99E3C09A539AC61951D290AA</td>\n",
       "      <td>2015-01-01 00:44:37</td>\n",
       "      <td>2015-01-01 00:44:37</td>\n",
       "      <td>2015-01-01 00:45:06</td>\n",
       "      <td>Nein</td>\n",
       "      <td>Nein</td>\n",
       "      <td>0.0</td>\n",
       "      <td>Leinpfad/Fernsicht</td>\n",
       "      <td>224650.0</td>\n",
       "      <td>Leinpfad/Fernsicht</td>\n",
       "      <td>224650.0</td>\n",
       "      <td>Standort</td>\n",
       "      <td>Hamburg</td>\n",
       "      <td>Terminal HH_111 (-2316-)</td>\n",
       "    </tr>\n",
       "    <tr>\n",
       "      <th>3</th>\n",
       "      <td>2015-01-01 01:12:59</td>\n",
       "      <td>27689205</td>\n",
       "      <td>51000</td>\n",
       "      <td>143629</td>\n",
       "      <td>E7EF081E19AAF56F09509BE4AEFD2AED619F90B7</td>\n",
       "      <td>2015-01-01 01:12:59</td>\n",
       "      <td>2015-01-01 01:12:59</td>\n",
       "      <td>2015-01-01 01:43:09</td>\n",
       "      <td>Nein</td>\n",
       "      <td>Nein</td>\n",
       "      <td>0.0</td>\n",
       "      <td>Osterstraße/Bismarckstraße</td>\n",
       "      <td>131642.0</td>\n",
       "      <td>Hudtwalckerstraße / Bebelallee</td>\n",
       "      <td>138378.0</td>\n",
       "      <td>Standort</td>\n",
       "      <td>Hamburg</td>\n",
       "      <td>NaN</td>\n",
       "    </tr>\n",
       "    <tr>\n",
       "      <th>4</th>\n",
       "      <td>2015-01-01 01:27:20</td>\n",
       "      <td>27689263</td>\n",
       "      <td>51000</td>\n",
       "      <td>120391</td>\n",
       "      <td>D6FFD22F4BC5C36B3FB12193D250D6193C534C48</td>\n",
       "      <td>2015-01-01 01:27:20</td>\n",
       "      <td>2015-01-01 01:27:20</td>\n",
       "      <td>2015-01-01 01:32:32</td>\n",
       "      <td>Nein</td>\n",
       "      <td>Nein</td>\n",
       "      <td>0.0</td>\n",
       "      <td>Millerntorplatz/St.Pauli</td>\n",
       "      <td>131905.0</td>\n",
       "      <td>Sievekingplatz/Gorch-Fock-Wall</td>\n",
       "      <td>164033.0</td>\n",
       "      <td>Standort</td>\n",
       "      <td>Hamburg</td>\n",
       "      <td>Terminal HH_4 (-2612-)</td>\n",
       "    </tr>\n",
       "  </tbody>\n",
       "</table>\n",
       "</div>"
      ],
      "text/plain": [
       "                  date  BOOKING_HAL_ID  CATEGORY_HAL_ID  VEHICLE_HAL_ID  \\\n",
       "0  2015-01-01 00:14:25        27688994            51000          119878   \n",
       "1  2015-01-01 00:26:09        27689019            51000          120624   \n",
       "2  2015-01-01 00:44:37        27689089            51000          120017   \n",
       "3  2015-01-01 01:12:59        27689205            51000          143629   \n",
       "4  2015-01-01 01:27:20        27689263            51000          120391   \n",
       "\n",
       "                            CUSTOMER_HAL_ID         DATE_BOOKING  \\\n",
       "0  C2E89B7C538A6FBBA6FBDFB811C616D9A1B4064D  2015-01-01 00:14:25   \n",
       "1  692C95821E9ACA58259CBB699810EAA84CF0A00E  2015-01-01 00:26:09   \n",
       "2  81ABD7D72CD6397F99E3C09A539AC61951D290AA  2015-01-01 00:44:37   \n",
       "3  E7EF081E19AAF56F09509BE4AEFD2AED619F90B7  2015-01-01 01:12:59   \n",
       "4  D6FFD22F4BC5C36B3FB12193D250D6193C534C48  2015-01-01 01:27:20   \n",
       "\n",
       "             DATE_FROM           DATE_UNTIL COMPUTE_EXTRA_BOOKING_FEE  \\\n",
       "0  2015-01-01 00:14:25  2015-01-01 00:27:26                      Nein   \n",
       "1  2015-01-01 00:26:09  2015-01-01 00:43:51                      Nein   \n",
       "2  2015-01-01 00:44:37  2015-01-01 00:45:06                      Nein   \n",
       "3  2015-01-01 01:12:59  2015-01-01 01:43:09                      Nein   \n",
       "4  2015-01-01 01:27:20  2015-01-01 01:32:32                      Nein   \n",
       "\n",
       "  TRAVERSE_USE  DISTANCE                        START_RENTAL_ZONE  \\\n",
       "0         Nein       0.0  Bahnhof Dammtor Süd / Marseiller Straße   \n",
       "1         Nein       0.0          Eduard-Rhein-Ufer / Schwanenwik   \n",
       "2         Nein       0.0                       Leinpfad/Fernsicht   \n",
       "3         Nein       0.0               Osterstraße/Bismarckstraße   \n",
       "4         Nein       0.0                 Millerntorplatz/St.Pauli   \n",
       "\n",
       "   START_RENTAL_ZONE_HAL_ID                 END_RENTAL_ZONE  \\\n",
       "0                  138382.0      Osterstraße/Bismarckstraße   \n",
       "1                  140800.0    Burgstraße/Hammer Landstraße   \n",
       "2                  224650.0              Leinpfad/Fernsicht   \n",
       "3                  131642.0  Hudtwalckerstraße / Bebelallee   \n",
       "4                  131905.0  Sievekingplatz/Gorch-Fock-Wall   \n",
       "\n",
       "   END_RENTAL_ZONE_HAL_ID RENTAL_ZONE_HAL_SRC CITY_RENTAL_ZONE  \\\n",
       "0                131642.0            Standort          Hamburg   \n",
       "1                131639.0            Standort          Hamburg   \n",
       "2                224650.0            Standort          Hamburg   \n",
       "3                138378.0            Standort          Hamburg   \n",
       "4                164033.0            Standort          Hamburg   \n",
       "\n",
       "   TECHNICAL_INCOME_CHANNEL  \n",
       "0   Terminal HH_18 (-2528-)  \n",
       "1   Terminal HH_31 (-2321-)  \n",
       "2  Terminal HH_111 (-2316-)  \n",
       "3                       NaN  \n",
       "4    Terminal HH_4 (-2612-)  "
      ]
     },
     "execution_count": 4,
     "metadata": {},
     "output_type": "execute_result"
    }
   ],
   "source": [
    "df_2015.head()"
   ]
  },
  {
   "cell_type": "code",
   "execution_count": 5,
   "metadata": {
    "collapsed": true
   },
   "outputs": [],
   "source": [
    "df_2015.drop(['COMPUTE_EXTRA_BOOKING_FEE', 'TRAVERSE_USE', 'DISTANCE', 'BOOKING_HAL_ID', 'CUSTOMER_HAL_ID'], axis=1, inplace=True)"
   ]
  },
  {
   "cell_type": "code",
   "execution_count": 6,
   "metadata": {
    "collapsed": true
   },
   "outputs": [],
   "source": [
    "CITY = df_2015.CITY_RENTAL_ZONE.unique()"
   ]
  },
  {
   "cell_type": "code",
   "execution_count": 7,
   "metadata": {
    "collapsed": true
   },
   "outputs": [],
   "source": [
    "category = df_2015.CATEGORY_HAL_ID.unique()"
   ]
  },
  {
   "cell_type": "code",
   "execution_count": 8,
   "metadata": {},
   "outputs": [
    {
     "data": {
      "text/html": [
       "<div>\n",
       "<style>\n",
       "    .dataframe thead tr:only-child th {\n",
       "        text-align: right;\n",
       "    }\n",
       "\n",
       "    .dataframe thead th {\n",
       "        text-align: left;\n",
       "    }\n",
       "\n",
       "    .dataframe tbody tr th {\n",
       "        vertical-align: top;\n",
       "    }\n",
       "</style>\n",
       "<table border=\"1\" class=\"dataframe\">\n",
       "  <thead>\n",
       "    <tr style=\"text-align: right;\">\n",
       "      <th></th>\n",
       "      <th>date</th>\n",
       "      <th>CATEGORY_HAL_ID</th>\n",
       "      <th>VEHICLE_HAL_ID</th>\n",
       "      <th>DATE_BOOKING</th>\n",
       "      <th>DATE_FROM</th>\n",
       "      <th>DATE_UNTIL</th>\n",
       "      <th>START_RENTAL_ZONE</th>\n",
       "      <th>START_RENTAL_ZONE_HAL_ID</th>\n",
       "      <th>END_RENTAL_ZONE</th>\n",
       "      <th>END_RENTAL_ZONE_HAL_ID</th>\n",
       "      <th>RENTAL_ZONE_HAL_SRC</th>\n",
       "      <th>CITY_RENTAL_ZONE</th>\n",
       "      <th>TECHNICAL_INCOME_CHANNEL</th>\n",
       "    </tr>\n",
       "  </thead>\n",
       "  <tbody>\n",
       "    <tr>\n",
       "      <th>0</th>\n",
       "      <td>2015-01-01 00:14:25</td>\n",
       "      <td>51000</td>\n",
       "      <td>119878</td>\n",
       "      <td>2015-01-01 00:14:25</td>\n",
       "      <td>2015-01-01 00:14:25</td>\n",
       "      <td>2015-01-01 00:27:26</td>\n",
       "      <td>Bahnhof Dammtor Süd / Marseiller Straße</td>\n",
       "      <td>138382.0</td>\n",
       "      <td>Osterstraße/Bismarckstraße</td>\n",
       "      <td>131642.0</td>\n",
       "      <td>Standort</td>\n",
       "      <td>Hamburg</td>\n",
       "      <td>Terminal HH_18 (-2528-)</td>\n",
       "    </tr>\n",
       "    <tr>\n",
       "      <th>1</th>\n",
       "      <td>2015-01-01 00:26:09</td>\n",
       "      <td>51000</td>\n",
       "      <td>120624</td>\n",
       "      <td>2015-01-01 00:26:09</td>\n",
       "      <td>2015-01-01 00:26:09</td>\n",
       "      <td>2015-01-01 00:43:51</td>\n",
       "      <td>Eduard-Rhein-Ufer / Schwanenwik</td>\n",
       "      <td>140800.0</td>\n",
       "      <td>Burgstraße/Hammer Landstraße</td>\n",
       "      <td>131639.0</td>\n",
       "      <td>Standort</td>\n",
       "      <td>Hamburg</td>\n",
       "      <td>Terminal HH_31 (-2321-)</td>\n",
       "    </tr>\n",
       "    <tr>\n",
       "      <th>2</th>\n",
       "      <td>2015-01-01 00:44:37</td>\n",
       "      <td>51000</td>\n",
       "      <td>120017</td>\n",
       "      <td>2015-01-01 00:44:37</td>\n",
       "      <td>2015-01-01 00:44:37</td>\n",
       "      <td>2015-01-01 00:45:06</td>\n",
       "      <td>Leinpfad/Fernsicht</td>\n",
       "      <td>224650.0</td>\n",
       "      <td>Leinpfad/Fernsicht</td>\n",
       "      <td>224650.0</td>\n",
       "      <td>Standort</td>\n",
       "      <td>Hamburg</td>\n",
       "      <td>Terminal HH_111 (-2316-)</td>\n",
       "    </tr>\n",
       "    <tr>\n",
       "      <th>3</th>\n",
       "      <td>2015-01-01 01:12:59</td>\n",
       "      <td>51000</td>\n",
       "      <td>143629</td>\n",
       "      <td>2015-01-01 01:12:59</td>\n",
       "      <td>2015-01-01 01:12:59</td>\n",
       "      <td>2015-01-01 01:43:09</td>\n",
       "      <td>Osterstraße/Bismarckstraße</td>\n",
       "      <td>131642.0</td>\n",
       "      <td>Hudtwalckerstraße / Bebelallee</td>\n",
       "      <td>138378.0</td>\n",
       "      <td>Standort</td>\n",
       "      <td>Hamburg</td>\n",
       "      <td>NaN</td>\n",
       "    </tr>\n",
       "    <tr>\n",
       "      <th>4</th>\n",
       "      <td>2015-01-01 01:27:20</td>\n",
       "      <td>51000</td>\n",
       "      <td>120391</td>\n",
       "      <td>2015-01-01 01:27:20</td>\n",
       "      <td>2015-01-01 01:27:20</td>\n",
       "      <td>2015-01-01 01:32:32</td>\n",
       "      <td>Millerntorplatz/St.Pauli</td>\n",
       "      <td>131905.0</td>\n",
       "      <td>Sievekingplatz/Gorch-Fock-Wall</td>\n",
       "      <td>164033.0</td>\n",
       "      <td>Standort</td>\n",
       "      <td>Hamburg</td>\n",
       "      <td>Terminal HH_4 (-2612-)</td>\n",
       "    </tr>\n",
       "  </tbody>\n",
       "</table>\n",
       "</div>"
      ],
      "text/plain": [
       "                  date  CATEGORY_HAL_ID  VEHICLE_HAL_ID         DATE_BOOKING  \\\n",
       "0  2015-01-01 00:14:25            51000          119878  2015-01-01 00:14:25   \n",
       "1  2015-01-01 00:26:09            51000          120624  2015-01-01 00:26:09   \n",
       "2  2015-01-01 00:44:37            51000          120017  2015-01-01 00:44:37   \n",
       "3  2015-01-01 01:12:59            51000          143629  2015-01-01 01:12:59   \n",
       "4  2015-01-01 01:27:20            51000          120391  2015-01-01 01:27:20   \n",
       "\n",
       "             DATE_FROM           DATE_UNTIL  \\\n",
       "0  2015-01-01 00:14:25  2015-01-01 00:27:26   \n",
       "1  2015-01-01 00:26:09  2015-01-01 00:43:51   \n",
       "2  2015-01-01 00:44:37  2015-01-01 00:45:06   \n",
       "3  2015-01-01 01:12:59  2015-01-01 01:43:09   \n",
       "4  2015-01-01 01:27:20  2015-01-01 01:32:32   \n",
       "\n",
       "                         START_RENTAL_ZONE  START_RENTAL_ZONE_HAL_ID  \\\n",
       "0  Bahnhof Dammtor Süd / Marseiller Straße                  138382.0   \n",
       "1          Eduard-Rhein-Ufer / Schwanenwik                  140800.0   \n",
       "2                       Leinpfad/Fernsicht                  224650.0   \n",
       "3               Osterstraße/Bismarckstraße                  131642.0   \n",
       "4                 Millerntorplatz/St.Pauli                  131905.0   \n",
       "\n",
       "                  END_RENTAL_ZONE  END_RENTAL_ZONE_HAL_ID RENTAL_ZONE_HAL_SRC  \\\n",
       "0      Osterstraße/Bismarckstraße                131642.0            Standort   \n",
       "1    Burgstraße/Hammer Landstraße                131639.0            Standort   \n",
       "2              Leinpfad/Fernsicht                224650.0            Standort   \n",
       "3  Hudtwalckerstraße / Bebelallee                138378.0            Standort   \n",
       "4  Sievekingplatz/Gorch-Fock-Wall                164033.0            Standort   \n",
       "\n",
       "  CITY_RENTAL_ZONE  TECHNICAL_INCOME_CHANNEL  \n",
       "0          Hamburg   Terminal HH_18 (-2528-)  \n",
       "1          Hamburg   Terminal HH_31 (-2321-)  \n",
       "2          Hamburg  Terminal HH_111 (-2316-)  \n",
       "3          Hamburg                       NaN  \n",
       "4          Hamburg    Terminal HH_4 (-2612-)  "
      ]
     },
     "execution_count": 8,
     "metadata": {},
     "output_type": "execute_result"
    }
   ],
   "source": [
    "df_2015.head()"
   ]
  },
  {
   "cell_type": "code",
   "execution_count": 9,
   "metadata": {},
   "outputs": [
    {
     "name": "stdout",
     "output_type": "stream",
     "text": [
      "47\n",
      "4\n"
     ]
    }
   ],
   "source": [
    "print(len(CITY))\n",
    "print(len(category))"
   ]
  },
  {
   "cell_type": "code",
   "execution_count": 10,
   "metadata": {
    "collapsed": true
   },
   "outputs": [],
   "source": [
    "city_dict = {}\n",
    "cities, city_count = [],[]\n",
    "for city in CITY:\n",
    "    city_dict[city] = len(df_2015[df_2015['CITY_RENTAL_ZONE']==city])\n",
    "    cities.append(city)\n",
    "    city_count.append(city_dict[city])"
   ]
  },
  {
   "cell_type": "code",
   "execution_count": 11,
   "metadata": {},
   "outputs": [
    {
     "name": "stdout",
     "output_type": "stream",
     "text": [
      "{'Hamburg': 2531919, 'Berlin': 358854, 'Frankfurt am Main': 513589, 'Kassel': 179694, 'Marburg': 107078, 'Stuttgart': 165350, 'Darmstadt': 155684, 'Rüsselsheim': 31879, 'Wiesbaden': 13250, 'Ingolstadt': 60, 'München': 343766, 'Bielefeld': 62, 'Göttingen': 224, 'Freiburg': 283, 'Karlsruhe': 347, 'Braunschweig': 83, 'Flugh. Frankfurt': 3016, 'Halle': 853, 'Köln': 213465, 'Wolfsburg': 65, 'Mannheim': 532, 'Erlangen': 46, 'Kaiserslautern': 43, 'Weimar': 101, 'Fulda': 76, 'Rostock': 42, 'Heidelberg': 350, 'Mainz': 237, 'Bonn': 296, 'Bamberg': 55, 'Würzburg': 151, 'Hanau': 58, 'Aschaffenburg': 48, 'Bremen': 276, 'Lübeck': 124, 'Hannover': 512, 'Gütersloh': 33, 'Saarbrücken': 98, 'Düsseldorf': 325, 'Oberhausen': 26, 'Oldenburg (Oldb)': 54, 'Warnemünde': 35, 'Troisdorf': 74, 'Baden-Baden': 845, 'Magdeburg': 66, 'Kiel': 798, 'Hennef': 4}\n"
     ]
    }
   ],
   "source": [
    "print(city_dict)"
   ]
  },
  {
   "cell_type": "code",
   "execution_count": 12,
   "metadata": {},
   "outputs": [
    {
     "data": {
      "image/png": "[encoded data removed]",
      "text/plain": [
       "<matplotlib.figure.Figure at 0x7f4919aa6908>"
      ]
     },
     "metadata": {},
     "output_type": "display_data"
    }
   ],
   "source": [
    "x_plot = np.arange(len(cities))\n",
    "plt.figure(figsize=(16,6))\n",
    "plt.title('Cities', fontsize=15, fontweight='bold')\n",
    "p = plt.bar(x_plot+1, city_count)\n",
    "plt.xticks(x_plot+1, cities, rotation = 'vertical')\n",
    "plt.show()"
   ]
  },
  {
   "cell_type": "code",
   "execution_count": 13,
   "metadata": {
    "collapsed": true
   },
   "outputs": [],
   "source": [
    "category_dict = {}\n",
    "categories, category_count = [],[]\n",
    "for c in category:\n",
    "    category_dict[c] = len(df_2015[df_2015['CATEGORY_HAL_ID']==c])\n",
    "    categories.append(c)\n",
    "    category_count.append(category_dict[c])"
   ]
  },
  {
   "cell_type": "code",
   "execution_count": 14,
   "metadata": {},
   "outputs": [
    {
     "name": "stdout",
     "output_type": "stream",
     "text": [
      "{51000: 2531919, 50000: 1899987, 53000: 179694, 50001: 13226}\n"
     ]
    }
   ],
   "source": [
    "print(category_dict)"
   ]
  },
  {
   "cell_type": "code",
   "execution_count": 15,
   "metadata": {},
   "outputs": [
    {
     "data": {
      "image/png": "[encoded data removed]",
      "text/plain": [
       "<matplotlib.figure.Figure at 0x7f494eeb7b00>"
      ]
     },
     "metadata": {},
     "output_type": "display_data"
    }
   ],
   "source": [
    "x_plot = np.arange(len(categories))\n",
    "plt.figure(figsize=(8,6))\n",
    "plt.title('Category', fontsize=15, fontweight='bold')\n",
    "p = plt.bar(x_plot+1, category_count)\n",
    "plt.xticks(x_plot+1, categories, rotation = 'vertical')\n",
    "plt.show()"
   ]
  },
  {
   "cell_type": "code",
   "execution_count": 16,
   "metadata": {},
   "outputs": [
    {
     "data": {
      "image/png": "[encoded data removed]",
      "text/plain": [
       "<matplotlib.figure.Figure at 0x7f494ee18cc0>"
      ]
     },
     "metadata": {},
     "output_type": "display_data"
    }
   ],
   "source": [
    "colors = [\"#0AB9FB\", \"#5CD1FE\",\"#8BDAF9\", \"#ACE6FD\",\"#0098D4\"]\n",
    "plt.figure(figsize=(5,5))\n",
    "plt.title('Category', fontsize=15, fontweight='bold')\n",
    "plt.pie(category_count, labels=categories)\n",
    "plt.legend(categories, fontsize = 'large', loc = \"best\")\n",
    "plt.tight_layout()\n",
    "plt.show()"
   ]
  },
  {
   "cell_type": "code",
   "execution_count": 17,
   "metadata": {},
   "outputs": [
    {
     "data": {
      "text/html": [
       "<div>\n",
       "<style>\n",
       "    .dataframe thead tr:only-child th {\n",
       "        text-align: right;\n",
       "    }\n",
       "\n",
       "    .dataframe thead th {\n",
       "        text-align: left;\n",
       "    }\n",
       "\n",
       "    .dataframe tbody tr th {\n",
       "        vertical-align: top;\n",
       "    }\n",
       "</style>\n",
       "<table border=\"1\" class=\"dataframe\">\n",
       "  <thead>\n",
       "    <tr style=\"text-align: right;\">\n",
       "      <th></th>\n",
       "      <th>CATEGORY_HAL_ID</th>\n",
       "      <th>VEHICLE_HAL_ID</th>\n",
       "      <th>DATE_BOOKING</th>\n",
       "      <th>DATE_FROM</th>\n",
       "      <th>DATE_UNTIL</th>\n",
       "      <th>START_RENTAL_ZONE</th>\n",
       "      <th>START_RENTAL_ZONE_HAL_ID</th>\n",
       "      <th>END_RENTAL_ZONE</th>\n",
       "      <th>END_RENTAL_ZONE_HAL_ID</th>\n",
       "      <th>RENTAL_ZONE_HAL_SRC</th>\n",
       "      <th>CITY_RENTAL_ZONE</th>\n",
       "      <th>TECHNICAL_INCOME_CHANNEL</th>\n",
       "    </tr>\n",
       "  </thead>\n",
       "  <tbody>\n",
       "    <tr>\n",
       "      <th>0</th>\n",
       "      <td>51000</td>\n",
       "      <td>119878</td>\n",
       "      <td>2015-01-01 00:14:25</td>\n",
       "      <td>2015-01-01 00:14:25</td>\n",
       "      <td>2015-01-01 00:27:26</td>\n",
       "      <td>Bahnhof Dammtor Süd / Marseiller Straße</td>\n",
       "      <td>138382.0</td>\n",
       "      <td>Osterstraße/Bismarckstraße</td>\n",
       "      <td>131642.0</td>\n",
       "      <td>Standort</td>\n",
       "      <td>Hamburg</td>\n",
       "      <td>Terminal HH_18 (-2528-)</td>\n",
       "    </tr>\n",
       "    <tr>\n",
       "      <th>1</th>\n",
       "      <td>51000</td>\n",
       "      <td>120624</td>\n",
       "      <td>2015-01-01 00:26:09</td>\n",
       "      <td>2015-01-01 00:26:09</td>\n",
       "      <td>2015-01-01 00:43:51</td>\n",
       "      <td>Eduard-Rhein-Ufer / Schwanenwik</td>\n",
       "      <td>140800.0</td>\n",
       "      <td>Burgstraße/Hammer Landstraße</td>\n",
       "      <td>131639.0</td>\n",
       "      <td>Standort</td>\n",
       "      <td>Hamburg</td>\n",
       "      <td>Terminal HH_31 (-2321-)</td>\n",
       "    </tr>\n",
       "    <tr>\n",
       "      <th>2</th>\n",
       "      <td>51000</td>\n",
       "      <td>120017</td>\n",
       "      <td>2015-01-01 00:44:37</td>\n",
       "      <td>2015-01-01 00:44:37</td>\n",
       "      <td>2015-01-01 00:45:06</td>\n",
       "      <td>Leinpfad/Fernsicht</td>\n",
       "      <td>224650.0</td>\n",
       "      <td>Leinpfad/Fernsicht</td>\n",
       "      <td>224650.0</td>\n",
       "      <td>Standort</td>\n",
       "      <td>Hamburg</td>\n",
       "      <td>Terminal HH_111 (-2316-)</td>\n",
       "    </tr>\n",
       "    <tr>\n",
       "      <th>3</th>\n",
       "      <td>51000</td>\n",
       "      <td>143629</td>\n",
       "      <td>2015-01-01 01:12:59</td>\n",
       "      <td>2015-01-01 01:12:59</td>\n",
       "      <td>2015-01-01 01:43:09</td>\n",
       "      <td>Osterstraße/Bismarckstraße</td>\n",
       "      <td>131642.0</td>\n",
       "      <td>Hudtwalckerstraße / Bebelallee</td>\n",
       "      <td>138378.0</td>\n",
       "      <td>Standort</td>\n",
       "      <td>Hamburg</td>\n",
       "      <td>NaN</td>\n",
       "    </tr>\n",
       "    <tr>\n",
       "      <th>4</th>\n",
       "      <td>51000</td>\n",
       "      <td>120391</td>\n",
       "      <td>2015-01-01 01:27:20</td>\n",
       "      <td>2015-01-01 01:27:20</td>\n",
       "      <td>2015-01-01 01:32:32</td>\n",
       "      <td>Millerntorplatz/St.Pauli</td>\n",
       "      <td>131905.0</td>\n",
       "      <td>Sievekingplatz/Gorch-Fock-Wall</td>\n",
       "      <td>164033.0</td>\n",
       "      <td>Standort</td>\n",
       "      <td>Hamburg</td>\n",
       "      <td>Terminal HH_4 (-2612-)</td>\n",
       "    </tr>\n",
       "  </tbody>\n",
       "</table>\n",
       "</div>"
      ],
      "text/plain": [
       "   CATEGORY_HAL_ID  VEHICLE_HAL_ID         DATE_BOOKING            DATE_FROM  \\\n",
       "0            51000          119878  2015-01-01 00:14:25  2015-01-01 00:14:25   \n",
       "1            51000          120624  2015-01-01 00:26:09  2015-01-01 00:26:09   \n",
       "2            51000          120017  2015-01-01 00:44:37  2015-01-01 00:44:37   \n",
       "3            51000          143629  2015-01-01 01:12:59  2015-01-01 01:12:59   \n",
       "4            51000          120391  2015-01-01 01:27:20  2015-01-01 01:27:20   \n",
       "\n",
       "            DATE_UNTIL                        START_RENTAL_ZONE  \\\n",
       "0  2015-01-01 00:27:26  Bahnhof Dammtor Süd / Marseiller Straße   \n",
       "1  2015-01-01 00:43:51          Eduard-Rhein-Ufer / Schwanenwik   \n",
       "2  2015-01-01 00:45:06                       Leinpfad/Fernsicht   \n",
       "3  2015-01-01 01:43:09               Osterstraße/Bismarckstraße   \n",
       "4  2015-01-01 01:32:32                 Millerntorplatz/St.Pauli   \n",
       "\n",
       "   START_RENTAL_ZONE_HAL_ID                 END_RENTAL_ZONE  \\\n",
       "0                  138382.0      Osterstraße/Bismarckstraße   \n",
       "1                  140800.0    Burgstraße/Hammer Landstraße   \n",
       "2                  224650.0              Leinpfad/Fernsicht   \n",
       "3                  131642.0  Hudtwalckerstraße / Bebelallee   \n",
       "4                  131905.0  Sievekingplatz/Gorch-Fock-Wall   \n",
       "\n",
       "   END_RENTAL_ZONE_HAL_ID RENTAL_ZONE_HAL_SRC CITY_RENTAL_ZONE  \\\n",
       "0                131642.0            Standort          Hamburg   \n",
       "1                131639.0            Standort          Hamburg   \n",
       "2                224650.0            Standort          Hamburg   \n",
       "3                138378.0            Standort          Hamburg   \n",
       "4                164033.0            Standort          Hamburg   \n",
       "\n",
       "   TECHNICAL_INCOME_CHANNEL  \n",
       "0   Terminal HH_18 (-2528-)  \n",
       "1   Terminal HH_31 (-2321-)  \n",
       "2  Terminal HH_111 (-2316-)  \n",
       "3                       NaN  \n",
       "4    Terminal HH_4 (-2612-)  "
      ]
     },
     "execution_count": 17,
     "metadata": {},
     "output_type": "execute_result"
    }
   ],
   "source": [
    "del df_2015['date']\n",
    "df_2015.head()"
   ]
  },
  {
   "cell_type": "code",
   "execution_count": 18,
   "metadata": {
    "collapsed": true
   },
   "outputs": [],
   "source": [
    "df_2015['DATE_BOOKING'] = pd.to_datetime(df_2015['DATE_BOOKING'])"
   ]
  },
  {
   "cell_type": "code",
   "execution_count": 19,
   "metadata": {},
   "outputs": [
    {
     "data": {
      "text/html": [
       "<div>\n",
       "<style>\n",
       "    .dataframe thead tr:only-child th {\n",
       "        text-align: right;\n",
       "    }\n",
       "\n",
       "    .dataframe thead th {\n",
       "        text-align: left;\n",
       "    }\n",
       "\n",
       "    .dataframe tbody tr th {\n",
       "        vertical-align: top;\n",
       "    }\n",
       "</style>\n",
       "<table border=\"1\" class=\"dataframe\">\n",
       "  <thead>\n",
       "    <tr style=\"text-align: right;\">\n",
       "      <th></th>\n",
       "      <th>CATEGORY_HAL_ID</th>\n",
       "      <th>VEHICLE_HAL_ID</th>\n",
       "      <th>DATE_BOOKING</th>\n",
       "      <th>DATE_FROM</th>\n",
       "      <th>DATE_UNTIL</th>\n",
       "      <th>START_RENTAL_ZONE</th>\n",
       "      <th>START_RENTAL_ZONE_HAL_ID</th>\n",
       "      <th>END_RENTAL_ZONE</th>\n",
       "      <th>END_RENTAL_ZONE_HAL_ID</th>\n",
       "      <th>RENTAL_ZONE_HAL_SRC</th>\n",
       "      <th>CITY_RENTAL_ZONE</th>\n",
       "      <th>TECHNICAL_INCOME_CHANNEL</th>\n",
       "    </tr>\n",
       "    <tr>\n",
       "      <th>DATE_BOOKING</th>\n",
       "      <th></th>\n",
       "      <th></th>\n",
       "      <th></th>\n",
       "      <th></th>\n",
       "      <th></th>\n",
       "      <th></th>\n",
       "      <th></th>\n",
       "      <th></th>\n",
       "      <th></th>\n",
       "      <th></th>\n",
       "      <th></th>\n",
       "      <th></th>\n",
       "    </tr>\n",
       "  </thead>\n",
       "  <tbody>\n",
       "    <tr>\n",
       "      <th>2015-01-01 00:14:25</th>\n",
       "      <td>51000</td>\n",
       "      <td>119878</td>\n",
       "      <td>2015-01-01 00:14:25</td>\n",
       "      <td>2015-01-01 00:14:25</td>\n",
       "      <td>2015-01-01 00:27:26</td>\n",
       "      <td>Bahnhof Dammtor Süd / Marseiller Straße</td>\n",
       "      <td>138382.0</td>\n",
       "      <td>Osterstraße/Bismarckstraße</td>\n",
       "      <td>131642.0</td>\n",
       "      <td>Standort</td>\n",
       "      <td>Hamburg</td>\n",
       "      <td>Terminal HH_18 (-2528-)</td>\n",
       "    </tr>\n",
       "    <tr>\n",
       "      <th>2015-01-01 00:26:09</th>\n",
       "      <td>51000</td>\n",
       "      <td>120624</td>\n",
       "      <td>2015-01-01 00:26:09</td>\n",
       "      <td>2015-01-01 00:26:09</td>\n",
       "      <td>2015-01-01 00:43:51</td>\n",
       "      <td>Eduard-Rhein-Ufer / Schwanenwik</td>\n",
       "      <td>140800.0</td>\n",
       "      <td>Burgstraße/Hammer Landstraße</td>\n",
       "      <td>131639.0</td>\n",
       "      <td>Standort</td>\n",
       "      <td>Hamburg</td>\n",
       "      <td>Terminal HH_31 (-2321-)</td>\n",
       "    </tr>\n",
       "    <tr>\n",
       "      <th>2015-01-01 00:44:37</th>\n",
       "      <td>51000</td>\n",
       "      <td>120017</td>\n",
       "      <td>2015-01-01 00:44:37</td>\n",
       "      <td>2015-01-01 00:44:37</td>\n",
       "      <td>2015-01-01 00:45:06</td>\n",
       "      <td>Leinpfad/Fernsicht</td>\n",
       "      <td>224650.0</td>\n",
       "      <td>Leinpfad/Fernsicht</td>\n",
       "      <td>224650.0</td>\n",
       "      <td>Standort</td>\n",
       "      <td>Hamburg</td>\n",
       "      <td>Terminal HH_111 (-2316-)</td>\n",
       "    </tr>\n",
       "    <tr>\n",
       "      <th>2015-01-01 01:12:59</th>\n",
       "      <td>51000</td>\n",
       "      <td>143629</td>\n",
       "      <td>2015-01-01 01:12:59</td>\n",
       "      <td>2015-01-01 01:12:59</td>\n",
       "      <td>2015-01-01 01:43:09</td>\n",
       "      <td>Osterstraße/Bismarckstraße</td>\n",
       "      <td>131642.0</td>\n",
       "      <td>Hudtwalckerstraße / Bebelallee</td>\n",
       "      <td>138378.0</td>\n",
       "      <td>Standort</td>\n",
       "      <td>Hamburg</td>\n",
       "      <td>NaN</td>\n",
       "    </tr>\n",
       "    <tr>\n",
       "      <th>2015-01-01 01:27:20</th>\n",
       "      <td>51000</td>\n",
       "      <td>120391</td>\n",
       "      <td>2015-01-01 01:27:20</td>\n",
       "      <td>2015-01-01 01:27:20</td>\n",
       "      <td>2015-01-01 01:32:32</td>\n",
       "      <td>Millerntorplatz/St.Pauli</td>\n",
       "      <td>131905.0</td>\n",
       "      <td>Sievekingplatz/Gorch-Fock-Wall</td>\n",
       "      <td>164033.0</td>\n",
       "      <td>Standort</td>\n",
       "      <td>Hamburg</td>\n",
       "      <td>Terminal HH_4 (-2612-)</td>\n",
       "    </tr>\n",
       "  </tbody>\n",
       "</table>\n",
       "</div>"
      ],
      "text/plain": [
       "                     CATEGORY_HAL_ID  VEHICLE_HAL_ID        DATE_BOOKING  \\\n",
       "DATE_BOOKING                                                               \n",
       "2015-01-01 00:14:25            51000          119878 2015-01-01 00:14:25   \n",
       "2015-01-01 00:26:09            51000          120624 2015-01-01 00:26:09   \n",
       "2015-01-01 00:44:37            51000          120017 2015-01-01 00:44:37   \n",
       "2015-01-01 01:12:59            51000          143629 2015-01-01 01:12:59   \n",
       "2015-01-01 01:27:20            51000          120391 2015-01-01 01:27:20   \n",
       "\n",
       "                               DATE_FROM           DATE_UNTIL  \\\n",
       "DATE_BOOKING                                                    \n",
       "2015-01-01 00:14:25  2015-01-01 00:14:25  2015-01-01 00:27:26   \n",
       "2015-01-01 00:26:09  2015-01-01 00:26:09  2015-01-01 00:43:51   \n",
       "2015-01-01 00:44:37  2015-01-01 00:44:37  2015-01-01 00:45:06   \n",
       "2015-01-01 01:12:59  2015-01-01 01:12:59  2015-01-01 01:43:09   \n",
       "2015-01-01 01:27:20  2015-01-01 01:27:20  2015-01-01 01:32:32   \n",
       "\n",
       "                                           START_RENTAL_ZONE  \\\n",
       "DATE_BOOKING                                                   \n",
       "2015-01-01 00:14:25  Bahnhof Dammtor Süd / Marseiller Straße   \n",
       "2015-01-01 00:26:09          Eduard-Rhein-Ufer / Schwanenwik   \n",
       "2015-01-01 00:44:37                       Leinpfad/Fernsicht   \n",
       "2015-01-01 01:12:59               Osterstraße/Bismarckstraße   \n",
       "2015-01-01 01:27:20                 Millerntorplatz/St.Pauli   \n",
       "\n",
       "                     START_RENTAL_ZONE_HAL_ID                 END_RENTAL_ZONE  \\\n",
       "DATE_BOOKING                                                                    \n",
       "2015-01-01 00:14:25                  138382.0      Osterstraße/Bismarckstraße   \n",
       "2015-01-01 00:26:09                  140800.0    Burgstraße/Hammer Landstraße   \n",
       "2015-01-01 00:44:37                  224650.0              Leinpfad/Fernsicht   \n",
       "2015-01-01 01:12:59                  131642.0  Hudtwalckerstraße / Bebelallee   \n",
       "2015-01-01 01:27:20                  131905.0  Sievekingplatz/Gorch-Fock-Wall   \n",
       "\n",
       "                     END_RENTAL_ZONE_HAL_ID RENTAL_ZONE_HAL_SRC  \\\n",
       "DATE_BOOKING                                                      \n",
       "2015-01-01 00:14:25                131642.0            Standort   \n",
       "2015-01-01 00:26:09                131639.0            Standort   \n",
       "2015-01-01 00:44:37                224650.0            Standort   \n",
       "2015-01-01 01:12:59                138378.0            Standort   \n",
       "2015-01-01 01:27:20                164033.0            Standort   \n",
       "\n",
       "                    CITY_RENTAL_ZONE  TECHNICAL_INCOME_CHANNEL  \n",
       "DATE_BOOKING                                                    \n",
       "2015-01-01 00:14:25          Hamburg   Terminal HH_18 (-2528-)  \n",
       "2015-01-01 00:26:09          Hamburg   Terminal HH_31 (-2321-)  \n",
       "2015-01-01 00:44:37          Hamburg  Terminal HH_111 (-2316-)  \n",
       "2015-01-01 01:12:59          Hamburg                       NaN  \n",
       "2015-01-01 01:27:20          Hamburg    Terminal HH_4 (-2612-)  "
      ]
     },
     "execution_count": 19,
     "metadata": {},
     "output_type": "execute_result"
    }
   ],
   "source": [
    "df_2015.index = df_2015['DATE_BOOKING']\n",
    "df_2015.head()"
   ]
  },
  {
   "cell_type": "code",
   "execution_count": 20,
   "metadata": {
    "collapsed": true
   },
   "outputs": [],
   "source": [
    "df_month = df_2015.groupby(pd.TimeGrouper(freq='M'))"
   ]
  },
  {
   "cell_type": "code",
   "execution_count": 21,
   "metadata": {
    "collapsed": true
   },
   "outputs": [],
   "source": [
    "tem = df_month['DATE_BOOKING'].count()"
   ]
  },
  {
   "cell_type": "code",
   "execution_count": 22,
   "metadata": {
    "collapsed": true
   },
   "outputs": [],
   "source": [
    "month_name=[]\n",
    "month_wise_booking=[]\n",
    "for p,l in tem.items():\n",
    "    month_name.append(calendar.month_abbr[p.month])\n",
    "    month_wise_booking.append(l)"
   ]
  },
  {
   "cell_type": "code",
   "execution_count": 23,
   "metadata": {},
   "outputs": [
    {
     "name": "stdout",
     "output_type": "stream",
     "text": [
      "['Jan', 'Feb', 'Mar', 'Apr', 'May', 'Jun', 'Jul', 'Aug', 'Sep', 'Oct', 'Nov', 'Dec']\n",
      "[162744, 165429, 245823, 396467, 479878, 559966, 585331, 584580, 433013, 396569, 332755, 282271]\n"
     ]
    }
   ],
   "source": [
    "print(month_name)\n",
    "print(month_wise_booking)"
   ]
  },
  {
   "cell_type": "code",
   "execution_count": 24,
   "metadata": {},
   "outputs": [
    {
     "data": {
      "image/png": "[encoded data removed]",
      "text/plain": [
       "<matplotlib.figure.Figure at 0x7f494ed84320>"
      ]
     },
     "metadata": {},
     "output_type": "display_data"
    }
   ],
   "source": [
    "x_plot = np.arange(len(month_name))\n",
    "plt.figure(figsize=(8,6))\n",
    "plt.title('Month Wise Booking', fontsize=15, fontweight='bold')\n",
    "p = plt.bar(x_plot+1, month_wise_booking)\n",
    "plt.xticks(x_plot+1, month_name, rotation = 'vertical')\n",
    "plt.show()"
   ]
  },
  {
   "cell_type": "code",
   "execution_count": 25,
   "metadata": {},
   "outputs": [
    {
     "data": {
      "text/plain": [
       "CATEGORY_HAL_ID             4624826\n",
       "VEHICLE_HAL_ID              4624826\n",
       "DATE_BOOKING                4624826\n",
       "DATE_FROM                   4624826\n",
       "DATE_UNTIL                  4624826\n",
       "START_RENTAL_ZONE           3647769\n",
       "START_RENTAL_ZONE_HAL_ID    4473881\n",
       "END_RENTAL_ZONE             3640210\n",
       "END_RENTAL_ZONE_HAL_ID      4472788\n",
       "RENTAL_ZONE_HAL_SRC         4583703\n",
       "CITY_RENTAL_ZONE            4624826\n",
       "TECHNICAL_INCOME_CHANNEL    4559244\n",
       "dtype: int64"
      ]
     },
     "execution_count": 25,
     "metadata": {},
     "output_type": "execute_result"
    }
   ],
   "source": [
    "df_2015.count()"
   ]
  },
  {
   "cell_type": "code",
   "execution_count": 26,
   "metadata": {
    "collapsed": true
   },
   "outputs": [],
   "source": [
    "df = df_2015.dropna(subset = ['TECHNICAL_INCOME_CHANNEL'],how='any', axis=0)"
   ]
  },
  {
   "cell_type": "code",
   "execution_count": 27,
   "metadata": {},
   "outputs": [
    {
     "data": {
      "text/plain": [
       "CATEGORY_HAL_ID             4559244\n",
       "VEHICLE_HAL_ID              4559244\n",
       "DATE_BOOKING                4559244\n",
       "DATE_FROM                   4559244\n",
       "DATE_UNTIL                  4559244\n",
       "START_RENTAL_ZONE           3598630\n",
       "START_RENTAL_ZONE_HAL_ID    4410942\n",
       "END_RENTAL_ZONE             3590706\n",
       "END_RENTAL_ZONE_HAL_ID      4409328\n",
       "RENTAL_ZONE_HAL_SRC         4518809\n",
       "CITY_RENTAL_ZONE            4559244\n",
       "TECHNICAL_INCOME_CHANNEL    4559244\n",
       "dtype: int64"
      ]
     },
     "execution_count": 27,
     "metadata": {},
     "output_type": "execute_result"
    }
   ],
   "source": [
    "df.count()"
   ]
  },
  {
   "cell_type": "code",
   "execution_count": 28,
   "metadata": {
    "collapsed": true
   },
   "outputs": [],
   "source": [
    "channel = df['TECHNICAL_INCOME_CHANNEL']"
   ]
  },
  {
   "cell_type": "code",
   "execution_count": 29,
   "metadata": {
    "collapsed": true
   },
   "outputs": [],
   "source": [
    "channel_group = {'android':[], 'iphone': [], 'windows': [], 'other': []}\n",
    "for j in channel:\n",
    "    if ('Android' in j):\n",
    "        channel_group['android'].append(j)\n",
    "    elif ('iPhone' in j):\n",
    "        channel_group['iphone'].append(j)\n",
    "    elif ('Windows' in j):\n",
    "        channel_group['windows'].append(j)\n",
    "    else:\n",
    "        channel_group['other'].append(j)"
   ]
  },
  {
   "cell_type": "code",
   "execution_count": 30,
   "metadata": {},
   "outputs": [
    {
     "name": "stdout",
     "output_type": "stream",
     "text": [
      "['android', 'iphone', 'windows', 'other']\n",
      "[1077051, 1525658, 42725, 1913810]\n"
     ]
    }
   ],
   "source": [
    "groups, group_count = [],[]\n",
    "for i in channel_group:\n",
    "    groups.append(i)\n",
    "    group_count.append(len(channel_group[i]))\n",
    "print(groups)\n",
    "print(group_count)"
   ]
  },
  {
   "cell_type": "code",
   "execution_count": 31,
   "metadata": {},
   "outputs": [
    {
     "data": {
      "image/png": "[encoded data removed]",
      "text/plain": [
       "<matplotlib.figure.Figure at 0x7f494ec9bb70>"
      ]
     },
     "metadata": {},
     "output_type": "display_data"
    }
   ],
   "source": [
    "x_plot = np.arange(len(groups))\n",
    "plt.figure(figsize=(8,6))\n",
    "plt.title('Channels', fontsize=15, fontweight='bold')\n",
    "p = plt.bar(x_plot+1, group_count)\n",
    "plt.xticks(x_plot+1, groups, fontsize=15)\n",
    "plt.show()"
   ]
  },
  {
   "cell_type": "code",
   "execution_count": null,
   "metadata": {
    "collapsed": true
   },
   "outputs": [],
   "source": []
  }
 ],
 "metadata": {
  "kernelspec": {
   "display_name": "Python 3",
   "language": "python",
   "name": "python3"
  },
  "language_info": {
   "codemirror_mode": {
    "name": "ipython",
    "version": 3
   },
   "file_extension": ".py",
   "mimetype": "text/x-python",
   "name": "python",
   "nbconvert_exporter": "python",
   "pygments_lexer": "ipython3",
   "version": "3.6.3"
  }
 },
 "nbformat": 4,
 "nbformat_minor": 2
}
