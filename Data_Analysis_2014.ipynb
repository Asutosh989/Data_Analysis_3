{
 "cells": [
  {
   "cell_type": "code",
   "execution_count": 1,
   "metadata": {
    "collapsed": true
   },
   "outputs": [],
   "source": [
    "import pandas as pd\n",
    "import numpy as np\n",
    "import matplotlib.pyplot as plt\n",
    "import calendar"
   ]
  },
  {
   "cell_type": "code",
   "execution_count": 2,
   "metadata": {
    "collapsed": true
   },
   "outputs": [],
   "source": [
    "df_2014 = pd.read_csv('2014_Call_a_bike.csv')"
   ]
  },
  {
   "cell_type": "code",
   "execution_count": 3,
   "metadata": {},
   "outputs": [
    {
     "data": {
      "text/plain": [
       "date                         4285344\n",
       "BOOKING_HAL_ID               4285344\n",
       "CATEGORY_HAL_ID              4285344\n",
       "VEHICLE_HAL_ID               4285344\n",
       "CUSTOMER_HAL_ID              4285344\n",
       "DATE_BOOKING                 4285344\n",
       "DATE_FROM                    4285344\n",
       "DATE_UNTIL                   4285344\n",
       "COMPUTE_EXTRA_BOOKING_FEE    4285344\n",
       "TRAVERSE_USE                 4285344\n",
       "DISTANCE                     4285343\n",
       "START_RENTAL_ZONE            3288450\n",
       "START_RENTAL_ZONE_HAL_ID     4156336\n",
       "END_RENTAL_ZONE              3265396\n",
       "END_RENTAL_ZONE_HAL_ID       4133821\n",
       "RENTAL_ZONE_HAL_SRC          4252326\n",
       "CITY_RENTAL_ZONE             4285344\n",
       "TECHNICAL_INCOME_CHANNEL     4209687\n",
       "dtype: int64"
      ]
     },
     "execution_count": 3,
     "metadata": {},
     "output_type": "execute_result"
    }
   ],
   "source": [
    "df_2014.count()"
   ]
  },
  {
   "cell_type": "code",
   "execution_count": 4,
   "metadata": {
    "scrolled": true
   },
   "outputs": [
    {
     "data": {
      "text/html": [
       "<div>\n",
       "<style>\n",
       "    .dataframe thead tr:only-child th {\n",
       "        text-align: right;\n",
       "    }\n",
       "\n",
       "    .dataframe thead th {\n",
       "        text-align: left;\n",
       "    }\n",
       "\n",
       "    .dataframe tbody tr th {\n",
       "        vertical-align: top;\n",
       "    }\n",
       "</style>\n",
       "<table border=\"1\" class=\"dataframe\">\n",
       "  <thead>\n",
       "    <tr style=\"text-align: right;\">\n",
       "      <th></th>\n",
       "      <th>date</th>\n",
       "      <th>BOOKING_HAL_ID</th>\n",
       "      <th>CATEGORY_HAL_ID</th>\n",
       "      <th>VEHICLE_HAL_ID</th>\n",
       "      <th>CUSTOMER_HAL_ID</th>\n",
       "      <th>DATE_BOOKING</th>\n",
       "      <th>DATE_FROM</th>\n",
       "      <th>DATE_UNTIL</th>\n",
       "      <th>COMPUTE_EXTRA_BOOKING_FEE</th>\n",
       "      <th>TRAVERSE_USE</th>\n",
       "      <th>DISTANCE</th>\n",
       "      <th>START_RENTAL_ZONE</th>\n",
       "      <th>START_RENTAL_ZONE_HAL_ID</th>\n",
       "      <th>END_RENTAL_ZONE</th>\n",
       "      <th>END_RENTAL_ZONE_HAL_ID</th>\n",
       "      <th>RENTAL_ZONE_HAL_SRC</th>\n",
       "      <th>CITY_RENTAL_ZONE</th>\n",
       "      <th>TECHNICAL_INCOME_CHANNEL</th>\n",
       "    </tr>\n",
       "  </thead>\n",
       "  <tbody>\n",
       "    <tr>\n",
       "      <th>0</th>\n",
       "      <td>2014-01-01 00:34:54</td>\n",
       "      <td>21366843</td>\n",
       "      <td>51000</td>\n",
       "      <td>143517</td>\n",
       "      <td>A821059B555C7764A2FF801180874A2FCB326222</td>\n",
       "      <td>2014-01-01 00:34:54</td>\n",
       "      <td>2014-01-01 00:34:54</td>\n",
       "      <td>2014-01-01 00:50:14</td>\n",
       "      <td>Nein</td>\n",
       "      <td>Nein</td>\n",
       "      <td>0.0</td>\n",
       "      <td>U-Bahn Baumwall</td>\n",
       "      <td>214170.0</td>\n",
       "      <td>Mönckebergstraße / Rosenstraße</td>\n",
       "      <td>131880.0</td>\n",
       "      <td>Standort</td>\n",
       "      <td>Hamburg</td>\n",
       "      <td>iPhone SRH</td>\n",
       "    </tr>\n",
       "    <tr>\n",
       "      <th>1</th>\n",
       "      <td>2014-01-01 01:39:55</td>\n",
       "      <td>21367069</td>\n",
       "      <td>51000</td>\n",
       "      <td>119830</td>\n",
       "      <td>1EBC930DB407ACEAE2FDE23A6CA40492EA3DFBB2</td>\n",
       "      <td>2014-01-01 01:39:55</td>\n",
       "      <td>2014-01-01 01:39:55</td>\n",
       "      <td>2014-01-01 01:57:27</td>\n",
       "      <td>Nein</td>\n",
       "      <td>Nein</td>\n",
       "      <td>0.0</td>\n",
       "      <td>Bahnhof Altona Ost/Max-Brauer-Allee</td>\n",
       "      <td>131646.0</td>\n",
       "      <td>Schulterblatt/Eifflerstraße</td>\n",
       "      <td>131648.0</td>\n",
       "      <td>Standort</td>\n",
       "      <td>Hamburg</td>\n",
       "      <td>Android SRH</td>\n",
       "    </tr>\n",
       "    <tr>\n",
       "      <th>2</th>\n",
       "      <td>2014-01-01 01:40:20</td>\n",
       "      <td>21367072</td>\n",
       "      <td>51000</td>\n",
       "      <td>143501</td>\n",
       "      <td>7AD2C1B70137479062A6DD73815835986677BB2D</td>\n",
       "      <td>2014-01-01 01:40:20</td>\n",
       "      <td>2014-01-01 01:40:20</td>\n",
       "      <td>2014-01-01 01:53:09</td>\n",
       "      <td>Nein</td>\n",
       "      <td>Nein</td>\n",
       "      <td>0.0</td>\n",
       "      <td>Weidestraße/Biedermannplatz</td>\n",
       "      <td>211922.0</td>\n",
       "      <td>Jarrestraße / Rambatzweg</td>\n",
       "      <td>138376.0</td>\n",
       "      <td>Standort</td>\n",
       "      <td>Hamburg</td>\n",
       "      <td>Techniker HH_119 (-2334-)</td>\n",
       "    </tr>\n",
       "    <tr>\n",
       "      <th>3</th>\n",
       "      <td>2014-01-01 01:56:00</td>\n",
       "      <td>21367118</td>\n",
       "      <td>51000</td>\n",
       "      <td>117519</td>\n",
       "      <td>A1062EF019B4E3E71C551572F1B284D55440E3C4</td>\n",
       "      <td>2014-01-01 01:56:00</td>\n",
       "      <td>2014-01-01 01:56:00</td>\n",
       "      <td>2014-01-01 01:56:41</td>\n",
       "      <td>Nein</td>\n",
       "      <td>Nein</td>\n",
       "      <td>0.0</td>\n",
       "      <td>Große Bergstraße / Jessenstraße</td>\n",
       "      <td>131649.0</td>\n",
       "      <td>Große Bergstraße / Jessenstraße</td>\n",
       "      <td>131649.0</td>\n",
       "      <td>Standort</td>\n",
       "      <td>Hamburg</td>\n",
       "      <td>Terminal HH_46 (-2115-)</td>\n",
       "    </tr>\n",
       "    <tr>\n",
       "      <th>4</th>\n",
       "      <td>2014-01-01 02:05:55</td>\n",
       "      <td>21367155</td>\n",
       "      <td>51000</td>\n",
       "      <td>108641</td>\n",
       "      <td>4F4F752203EA6FC872D576E9289C4E1B362E16F6</td>\n",
       "      <td>2014-01-01 02:05:55</td>\n",
       "      <td>2014-01-01 02:05:55</td>\n",
       "      <td>2014-01-01 02:13:49</td>\n",
       "      <td>Nein</td>\n",
       "      <td>Nein</td>\n",
       "      <td>0.0</td>\n",
       "      <td>Mundsburg / Schürbeker Straße</td>\n",
       "      <td>140799.0</td>\n",
       "      <td>Bartholomäusstraße/Beim Alten Schützenhof</td>\n",
       "      <td>211923.0</td>\n",
       "      <td>Standort</td>\n",
       "      <td>Hamburg</td>\n",
       "      <td>iPhone SRH</td>\n",
       "    </tr>\n",
       "  </tbody>\n",
       "</table>\n",
       "</div>"
      ],
      "text/plain": [
       "                  date  BOOKING_HAL_ID  CATEGORY_HAL_ID  VEHICLE_HAL_ID  \\\n",
       "0  2014-01-01 00:34:54        21366843            51000          143517   \n",
       "1  2014-01-01 01:39:55        21367069            51000          119830   \n",
       "2  2014-01-01 01:40:20        21367072            51000          143501   \n",
       "3  2014-01-01 01:56:00        21367118            51000          117519   \n",
       "4  2014-01-01 02:05:55        21367155            51000          108641   \n",
       "\n",
       "                            CUSTOMER_HAL_ID         DATE_BOOKING  \\\n",
       "0  A821059B555C7764A2FF801180874A2FCB326222  2014-01-01 00:34:54   \n",
       "1  1EBC930DB407ACEAE2FDE23A6CA40492EA3DFBB2  2014-01-01 01:39:55   \n",
       "2  7AD2C1B70137479062A6DD73815835986677BB2D  2014-01-01 01:40:20   \n",
       "3  A1062EF019B4E3E71C551572F1B284D55440E3C4  2014-01-01 01:56:00   \n",
       "4  4F4F752203EA6FC872D576E9289C4E1B362E16F6  2014-01-01 02:05:55   \n",
       "\n",
       "             DATE_FROM           DATE_UNTIL COMPUTE_EXTRA_BOOKING_FEE  \\\n",
       "0  2014-01-01 00:34:54  2014-01-01 00:50:14                      Nein   \n",
       "1  2014-01-01 01:39:55  2014-01-01 01:57:27                      Nein   \n",
       "2  2014-01-01 01:40:20  2014-01-01 01:53:09                      Nein   \n",
       "3  2014-01-01 01:56:00  2014-01-01 01:56:41                      Nein   \n",
       "4  2014-01-01 02:05:55  2014-01-01 02:13:49                      Nein   \n",
       "\n",
       "  TRAVERSE_USE  DISTANCE                    START_RENTAL_ZONE  \\\n",
       "0         Nein       0.0                      U-Bahn Baumwall   \n",
       "1         Nein       0.0  Bahnhof Altona Ost/Max-Brauer-Allee   \n",
       "2         Nein       0.0          Weidestraße/Biedermannplatz   \n",
       "3         Nein       0.0      Große Bergstraße / Jessenstraße   \n",
       "4         Nein       0.0        Mundsburg / Schürbeker Straße   \n",
       "\n",
       "   START_RENTAL_ZONE_HAL_ID                            END_RENTAL_ZONE  \\\n",
       "0                  214170.0             Mönckebergstraße / Rosenstraße   \n",
       "1                  131646.0                Schulterblatt/Eifflerstraße   \n",
       "2                  211922.0                   Jarrestraße / Rambatzweg   \n",
       "3                  131649.0            Große Bergstraße / Jessenstraße   \n",
       "4                  140799.0  Bartholomäusstraße/Beim Alten Schützenhof   \n",
       "\n",
       "   END_RENTAL_ZONE_HAL_ID RENTAL_ZONE_HAL_SRC CITY_RENTAL_ZONE  \\\n",
       "0                131880.0            Standort          Hamburg   \n",
       "1                131648.0            Standort          Hamburg   \n",
       "2                138376.0            Standort          Hamburg   \n",
       "3                131649.0            Standort          Hamburg   \n",
       "4                211923.0            Standort          Hamburg   \n",
       "\n",
       "    TECHNICAL_INCOME_CHANNEL  \n",
       "0                 iPhone SRH  \n",
       "1                Android SRH  \n",
       "2  Techniker HH_119 (-2334-)  \n",
       "3    Terminal HH_46 (-2115-)  \n",
       "4                 iPhone SRH  "
      ]
     },
     "execution_count": 4,
     "metadata": {},
     "output_type": "execute_result"
    }
   ],
   "source": [
    "df_2014.head()"
   ]
  },
  {
   "cell_type": "code",
   "execution_count": 5,
   "metadata": {
    "collapsed": true
   },
   "outputs": [],
   "source": [
    "df_2014.drop(['COMPUTE_EXTRA_BOOKING_FEE', 'TRAVERSE_USE', 'DISTANCE', 'BOOKING_HAL_ID', 'CUSTOMER_HAL_ID'], axis=1, inplace=True)"
   ]
  },
  {
   "cell_type": "code",
   "execution_count": 6,
   "metadata": {
    "collapsed": true
   },
   "outputs": [],
   "source": [
    "CITY = df_2014.CITY_RENTAL_ZONE.unique()"
   ]
  },
  {
   "cell_type": "code",
   "execution_count": 7,
   "metadata": {
    "collapsed": true
   },
   "outputs": [],
   "source": [
    "category = df_2014.CATEGORY_HAL_ID.unique()"
   ]
  },
  {
   "cell_type": "code",
   "execution_count": 8,
   "metadata": {},
   "outputs": [
    {
     "data": {
      "text/html": [
       "<div>\n",
       "<style>\n",
       "    .dataframe thead tr:only-child th {\n",
       "        text-align: right;\n",
       "    }\n",
       "\n",
       "    .dataframe thead th {\n",
       "        text-align: left;\n",
       "    }\n",
       "\n",
       "    .dataframe tbody tr th {\n",
       "        vertical-align: top;\n",
       "    }\n",
       "</style>\n",
       "<table border=\"1\" class=\"dataframe\">\n",
       "  <thead>\n",
       "    <tr style=\"text-align: right;\">\n",
       "      <th></th>\n",
       "      <th>date</th>\n",
       "      <th>CATEGORY_HAL_ID</th>\n",
       "      <th>VEHICLE_HAL_ID</th>\n",
       "      <th>DATE_BOOKING</th>\n",
       "      <th>DATE_FROM</th>\n",
       "      <th>DATE_UNTIL</th>\n",
       "      <th>START_RENTAL_ZONE</th>\n",
       "      <th>START_RENTAL_ZONE_HAL_ID</th>\n",
       "      <th>END_RENTAL_ZONE</th>\n",
       "      <th>END_RENTAL_ZONE_HAL_ID</th>\n",
       "      <th>RENTAL_ZONE_HAL_SRC</th>\n",
       "      <th>CITY_RENTAL_ZONE</th>\n",
       "      <th>TECHNICAL_INCOME_CHANNEL</th>\n",
       "    </tr>\n",
       "  </thead>\n",
       "  <tbody>\n",
       "    <tr>\n",
       "      <th>0</th>\n",
       "      <td>2014-01-01 00:34:54</td>\n",
       "      <td>51000</td>\n",
       "      <td>143517</td>\n",
       "      <td>2014-01-01 00:34:54</td>\n",
       "      <td>2014-01-01 00:34:54</td>\n",
       "      <td>2014-01-01 00:50:14</td>\n",
       "      <td>U-Bahn Baumwall</td>\n",
       "      <td>214170.0</td>\n",
       "      <td>Mönckebergstraße / Rosenstraße</td>\n",
       "      <td>131880.0</td>\n",
       "      <td>Standort</td>\n",
       "      <td>Hamburg</td>\n",
       "      <td>iPhone SRH</td>\n",
       "    </tr>\n",
       "    <tr>\n",
       "      <th>1</th>\n",
       "      <td>2014-01-01 01:39:55</td>\n",
       "      <td>51000</td>\n",
       "      <td>119830</td>\n",
       "      <td>2014-01-01 01:39:55</td>\n",
       "      <td>2014-01-01 01:39:55</td>\n",
       "      <td>2014-01-01 01:57:27</td>\n",
       "      <td>Bahnhof Altona Ost/Max-Brauer-Allee</td>\n",
       "      <td>131646.0</td>\n",
       "      <td>Schulterblatt/Eifflerstraße</td>\n",
       "      <td>131648.0</td>\n",
       "      <td>Standort</td>\n",
       "      <td>Hamburg</td>\n",
       "      <td>Android SRH</td>\n",
       "    </tr>\n",
       "    <tr>\n",
       "      <th>2</th>\n",
       "      <td>2014-01-01 01:40:20</td>\n",
       "      <td>51000</td>\n",
       "      <td>143501</td>\n",
       "      <td>2014-01-01 01:40:20</td>\n",
       "      <td>2014-01-01 01:40:20</td>\n",
       "      <td>2014-01-01 01:53:09</td>\n",
       "      <td>Weidestraße/Biedermannplatz</td>\n",
       "      <td>211922.0</td>\n",
       "      <td>Jarrestraße / Rambatzweg</td>\n",
       "      <td>138376.0</td>\n",
       "      <td>Standort</td>\n",
       "      <td>Hamburg</td>\n",
       "      <td>Techniker HH_119 (-2334-)</td>\n",
       "    </tr>\n",
       "    <tr>\n",
       "      <th>3</th>\n",
       "      <td>2014-01-01 01:56:00</td>\n",
       "      <td>51000</td>\n",
       "      <td>117519</td>\n",
       "      <td>2014-01-01 01:56:00</td>\n",
       "      <td>2014-01-01 01:56:00</td>\n",
       "      <td>2014-01-01 01:56:41</td>\n",
       "      <td>Große Bergstraße / Jessenstraße</td>\n",
       "      <td>131649.0</td>\n",
       "      <td>Große Bergstraße / Jessenstraße</td>\n",
       "      <td>131649.0</td>\n",
       "      <td>Standort</td>\n",
       "      <td>Hamburg</td>\n",
       "      <td>Terminal HH_46 (-2115-)</td>\n",
       "    </tr>\n",
       "    <tr>\n",
       "      <th>4</th>\n",
       "      <td>2014-01-01 02:05:55</td>\n",
       "      <td>51000</td>\n",
       "      <td>108641</td>\n",
       "      <td>2014-01-01 02:05:55</td>\n",
       "      <td>2014-01-01 02:05:55</td>\n",
       "      <td>2014-01-01 02:13:49</td>\n",
       "      <td>Mundsburg / Schürbeker Straße</td>\n",
       "      <td>140799.0</td>\n",
       "      <td>Bartholomäusstraße/Beim Alten Schützenhof</td>\n",
       "      <td>211923.0</td>\n",
       "      <td>Standort</td>\n",
       "      <td>Hamburg</td>\n",
       "      <td>iPhone SRH</td>\n",
       "    </tr>\n",
       "  </tbody>\n",
       "</table>\n",
       "</div>"
      ],
      "text/plain": [
       "                  date  CATEGORY_HAL_ID  VEHICLE_HAL_ID         DATE_BOOKING  \\\n",
       "0  2014-01-01 00:34:54            51000          143517  2014-01-01 00:34:54   \n",
       "1  2014-01-01 01:39:55            51000          119830  2014-01-01 01:39:55   \n",
       "2  2014-01-01 01:40:20            51000          143501  2014-01-01 01:40:20   \n",
       "3  2014-01-01 01:56:00            51000          117519  2014-01-01 01:56:00   \n",
       "4  2014-01-01 02:05:55            51000          108641  2014-01-01 02:05:55   \n",
       "\n",
       "             DATE_FROM           DATE_UNTIL  \\\n",
       "0  2014-01-01 00:34:54  2014-01-01 00:50:14   \n",
       "1  2014-01-01 01:39:55  2014-01-01 01:57:27   \n",
       "2  2014-01-01 01:40:20  2014-01-01 01:53:09   \n",
       "3  2014-01-01 01:56:00  2014-01-01 01:56:41   \n",
       "4  2014-01-01 02:05:55  2014-01-01 02:13:49   \n",
       "\n",
       "                     START_RENTAL_ZONE  START_RENTAL_ZONE_HAL_ID  \\\n",
       "0                      U-Bahn Baumwall                  214170.0   \n",
       "1  Bahnhof Altona Ost/Max-Brauer-Allee                  131646.0   \n",
       "2          Weidestraße/Biedermannplatz                  211922.0   \n",
       "3      Große Bergstraße / Jessenstraße                  131649.0   \n",
       "4        Mundsburg / Schürbeker Straße                  140799.0   \n",
       "\n",
       "                             END_RENTAL_ZONE  END_RENTAL_ZONE_HAL_ID  \\\n",
       "0             Mönckebergstraße / Rosenstraße                131880.0   \n",
       "1                Schulterblatt/Eifflerstraße                131648.0   \n",
       "2                   Jarrestraße / Rambatzweg                138376.0   \n",
       "3            Große Bergstraße / Jessenstraße                131649.0   \n",
       "4  Bartholomäusstraße/Beim Alten Schützenhof                211923.0   \n",
       "\n",
       "  RENTAL_ZONE_HAL_SRC CITY_RENTAL_ZONE   TECHNICAL_INCOME_CHANNEL  \n",
       "0            Standort          Hamburg                 iPhone SRH  \n",
       "1            Standort          Hamburg                Android SRH  \n",
       "2            Standort          Hamburg  Techniker HH_119 (-2334-)  \n",
       "3            Standort          Hamburg    Terminal HH_46 (-2115-)  \n",
       "4            Standort          Hamburg                 iPhone SRH  "
      ]
     },
     "execution_count": 8,
     "metadata": {},
     "output_type": "execute_result"
    }
   ],
   "source": [
    "df_2014.head()"
   ]
  },
  {
   "cell_type": "code",
   "execution_count": 9,
   "metadata": {},
   "outputs": [
    {
     "name": "stdout",
     "output_type": "stream",
     "text": [
      "48\n",
      "4\n"
     ]
    }
   ],
   "source": [
    "print(len(CITY))\n",
    "print(len(category))"
   ]
  },
  {
   "cell_type": "code",
   "execution_count": 10,
   "metadata": {
    "collapsed": true
   },
   "outputs": [],
   "source": [
    "city_dict = {}\n",
    "cities, city_count = [],[]\n",
    "for city in CITY:\n",
    "    city_dict[city] = len(df_2014[df_2014['CITY_RENTAL_ZONE']==city])\n",
    "    cities.append(city)\n",
    "    city_count.append(city_dict[city])"
   ]
  },
  {
   "cell_type": "code",
   "execution_count": 11,
   "metadata": {},
   "outputs": [
    {
     "name": "stdout",
     "output_type": "stream",
     "text": [
      "{'Hamburg': 2435293, 'Berlin': 339209, 'Frankfurt am Main': 431315, 'Kassel': 205315, 'Stuttgart': 152526, 'Düsseldorf': 377, 'München': 358750, 'Halle': 699, 'Köln': 253087, 'Mannheim': 718, 'Braunschweig': 105, 'Mainz': 167, 'Flugh. Frankfurt': 2570, 'Göttingen': 194, 'Bamberg': 78, 'Erlangen': 54, 'Bonn': 257, 'Weimar': 100, 'Würzburg': 156, 'Freiburg': 346, 'Wiesbaden': 9950, 'Magdeburg': 93, 'Darmstadt': 25503, 'Wolfsburg': 100, 'Heidelberg': 439, 'Fulda': 69, 'Hannover': 422, 'Bremen': 166, 'Lübeck': 148, 'Hanau': 58, 'Augsburg': 4, 'Troisdorf': 84, 'Karlsruhe': 301, 'Baden-Baden': 25, 'Warnemünde': 42, 'Gütersloh': 22, 'Bielefeld': 45, 'Saarbrücken': 83, 'Aschaffenburg': 27, 'Ingolstadt': 27, 'Rostock': 59, 'Kaiserslautern': 50, 'Oldenburg (Oldb)': 39, 'Marburg': 44192, 'Aachen': 419, 'Rüsselsheim': 21645, 'Oberhausen': 14, 'Hennef': 2}\n"
     ]
    }
   ],
   "source": [
    "print(city_dict)"
   ]
  },
  {
   "cell_type": "code",
   "execution_count": 12,
   "metadata": {},
   "outputs": [
    {
     "data": {
      "image/png": "[encoded data removed]",
      "text/plain": [
       "<matplotlib.figure.Figure at 0x7fab5ad0f2b0>"
      ]
     },
     "metadata": {},
     "output_type": "display_data"
    }
   ],
   "source": [
    "x_plot = np.arange(len(cities))\n",
    "plt.figure(figsize=(16,6))\n",
    "plt.title('Cities', fontsize=15, fontweight='bold')\n",
    "p = plt.bar(x_plot+1, city_count)\n",
    "plt.xticks(x_plot+1, cities, rotation = 'vertical')\n",
    "plt.show()"
   ]
  },
  {
   "cell_type": "code",
   "execution_count": 13,
   "metadata": {
    "collapsed": true
   },
   "outputs": [],
   "source": [
    "category_dict = {}\n",
    "categories, category_count = [],[]\n",
    "for c in category:\n",
    "    category_dict[c] = len(df_2014[df_2014['CATEGORY_HAL_ID']==c])\n",
    "    categories.append(c)\n",
    "    category_count.append(category_dict[c])"
   ]
  },
  {
   "cell_type": "code",
   "execution_count": 14,
   "metadata": {},
   "outputs": [
    {
     "name": "stdout",
     "output_type": "stream",
     "text": [
      "{51000: 2435293, 50000: 1633888, 53000: 205315, 50001: 10848}\n"
     ]
    }
   ],
   "source": [
    "print(category_dict)"
   ]
  },
  {
   "cell_type": "code",
   "execution_count": 15,
   "metadata": {},
   "outputs": [
    {
     "data": {
      "image/png": "[encoded data removed]",
      "text/plain": [
       "<matplotlib.figure.Figure at 0x7fab5a6d3a20>"
      ]
     },
     "metadata": {},
     "output_type": "display_data"
    }
   ],
   "source": [
    "x_plot = np.arange(len(categories))\n",
    "plt.figure(figsize=(8,6))\n",
    "plt.title('Category', fontsize=15, fontweight='bold')\n",
    "p = plt.bar(x_plot+1, category_count)\n",
    "plt.xticks(x_plot+1, categories, rotation = 'vertical')\n",
    "plt.show()"
   ]
  },
  {
   "cell_type": "code",
   "execution_count": 16,
   "metadata": {},
   "outputs": [
    {
     "data": {
      "image/png": "[encoded data removed]",
      "text/plain": [
       "<matplotlib.figure.Figure at 0x7fab5a6233c8>"
      ]
     },
     "metadata": {},
     "output_type": "display_data"
    }
   ],
   "source": [
    "colors = [\"#0AB9FB\", \"#5CD1FE\",\"#8BDAF9\", \"#ACE6FD\",\"#0098D4\"]\n",
    "plt.figure(figsize=(5,5))\n",
    "plt.title('Category', fontsize=15, fontweight='bold')\n",
    "plt.pie(category_count, labels=categories)\n",
    "plt.legend(categories, fontsize = 'large', loc = \"best\")\n",
    "plt.tight_layout()\n",
    "plt.show()"
   ]
  },
  {
   "cell_type": "code",
   "execution_count": 17,
   "metadata": {},
   "outputs": [
    {
     "data": {
      "text/html": [
       "<div>\n",
       "<style>\n",
       "    .dataframe thead tr:only-child th {\n",
       "        text-align: right;\n",
       "    }\n",
       "\n",
       "    .dataframe thead th {\n",
       "        text-align: left;\n",
       "    }\n",
       "\n",
       "    .dataframe tbody tr th {\n",
       "        vertical-align: top;\n",
       "    }\n",
       "</style>\n",
       "<table border=\"1\" class=\"dataframe\">\n",
       "  <thead>\n",
       "    <tr style=\"text-align: right;\">\n",
       "      <th></th>\n",
       "      <th>CATEGORY_HAL_ID</th>\n",
       "      <th>VEHICLE_HAL_ID</th>\n",
       "      <th>DATE_BOOKING</th>\n",
       "      <th>DATE_FROM</th>\n",
       "      <th>DATE_UNTIL</th>\n",
       "      <th>START_RENTAL_ZONE</th>\n",
       "      <th>START_RENTAL_ZONE_HAL_ID</th>\n",
       "      <th>END_RENTAL_ZONE</th>\n",
       "      <th>END_RENTAL_ZONE_HAL_ID</th>\n",
       "      <th>RENTAL_ZONE_HAL_SRC</th>\n",
       "      <th>CITY_RENTAL_ZONE</th>\n",
       "      <th>TECHNICAL_INCOME_CHANNEL</th>\n",
       "    </tr>\n",
       "  </thead>\n",
       "  <tbody>\n",
       "    <tr>\n",
       "      <th>0</th>\n",
       "      <td>51000</td>\n",
       "      <td>143517</td>\n",
       "      <td>2014-01-01 00:34:54</td>\n",
       "      <td>2014-01-01 00:34:54</td>\n",
       "      <td>2014-01-01 00:50:14</td>\n",
       "      <td>U-Bahn Baumwall</td>\n",
       "      <td>214170.0</td>\n",
       "      <td>Mönckebergstraße / Rosenstraße</td>\n",
       "      <td>131880.0</td>\n",
       "      <td>Standort</td>\n",
       "      <td>Hamburg</td>\n",
       "      <td>iPhone SRH</td>\n",
       "    </tr>\n",
       "    <tr>\n",
       "      <th>1</th>\n",
       "      <td>51000</td>\n",
       "      <td>119830</td>\n",
       "      <td>2014-01-01 01:39:55</td>\n",
       "      <td>2014-01-01 01:39:55</td>\n",
       "      <td>2014-01-01 01:57:27</td>\n",
       "      <td>Bahnhof Altona Ost/Max-Brauer-Allee</td>\n",
       "      <td>131646.0</td>\n",
       "      <td>Schulterblatt/Eifflerstraße</td>\n",
       "      <td>131648.0</td>\n",
       "      <td>Standort</td>\n",
       "      <td>Hamburg</td>\n",
       "      <td>Android SRH</td>\n",
       "    </tr>\n",
       "    <tr>\n",
       "      <th>2</th>\n",
       "      <td>51000</td>\n",
       "      <td>143501</td>\n",
       "      <td>2014-01-01 01:40:20</td>\n",
       "      <td>2014-01-01 01:40:20</td>\n",
       "      <td>2014-01-01 01:53:09</td>\n",
       "      <td>Weidestraße/Biedermannplatz</td>\n",
       "      <td>211922.0</td>\n",
       "      <td>Jarrestraße / Rambatzweg</td>\n",
       "      <td>138376.0</td>\n",
       "      <td>Standort</td>\n",
       "      <td>Hamburg</td>\n",
       "      <td>Techniker HH_119 (-2334-)</td>\n",
       "    </tr>\n",
       "    <tr>\n",
       "      <th>3</th>\n",
       "      <td>51000</td>\n",
       "      <td>117519</td>\n",
       "      <td>2014-01-01 01:56:00</td>\n",
       "      <td>2014-01-01 01:56:00</td>\n",
       "      <td>2014-01-01 01:56:41</td>\n",
       "      <td>Große Bergstraße / Jessenstraße</td>\n",
       "      <td>131649.0</td>\n",
       "      <td>Große Bergstraße / Jessenstraße</td>\n",
       "      <td>131649.0</td>\n",
       "      <td>Standort</td>\n",
       "      <td>Hamburg</td>\n",
       "      <td>Terminal HH_46 (-2115-)</td>\n",
       "    </tr>\n",
       "    <tr>\n",
       "      <th>4</th>\n",
       "      <td>51000</td>\n",
       "      <td>108641</td>\n",
       "      <td>2014-01-01 02:05:55</td>\n",
       "      <td>2014-01-01 02:05:55</td>\n",
       "      <td>2014-01-01 02:13:49</td>\n",
       "      <td>Mundsburg / Schürbeker Straße</td>\n",
       "      <td>140799.0</td>\n",
       "      <td>Bartholomäusstraße/Beim Alten Schützenhof</td>\n",
       "      <td>211923.0</td>\n",
       "      <td>Standort</td>\n",
       "      <td>Hamburg</td>\n",
       "      <td>iPhone SRH</td>\n",
       "    </tr>\n",
       "  </tbody>\n",
       "</table>\n",
       "</div>"
      ],
      "text/plain": [
       "   CATEGORY_HAL_ID  VEHICLE_HAL_ID         DATE_BOOKING            DATE_FROM  \\\n",
       "0            51000          143517  2014-01-01 00:34:54  2014-01-01 00:34:54   \n",
       "1            51000          119830  2014-01-01 01:39:55  2014-01-01 01:39:55   \n",
       "2            51000          143501  2014-01-01 01:40:20  2014-01-01 01:40:20   \n",
       "3            51000          117519  2014-01-01 01:56:00  2014-01-01 01:56:00   \n",
       "4            51000          108641  2014-01-01 02:05:55  2014-01-01 02:05:55   \n",
       "\n",
       "            DATE_UNTIL                    START_RENTAL_ZONE  \\\n",
       "0  2014-01-01 00:50:14                      U-Bahn Baumwall   \n",
       "1  2014-01-01 01:57:27  Bahnhof Altona Ost/Max-Brauer-Allee   \n",
       "2  2014-01-01 01:53:09          Weidestraße/Biedermannplatz   \n",
       "3  2014-01-01 01:56:41      Große Bergstraße / Jessenstraße   \n",
       "4  2014-01-01 02:13:49        Mundsburg / Schürbeker Straße   \n",
       "\n",
       "   START_RENTAL_ZONE_HAL_ID                            END_RENTAL_ZONE  \\\n",
       "0                  214170.0             Mönckebergstraße / Rosenstraße   \n",
       "1                  131646.0                Schulterblatt/Eifflerstraße   \n",
       "2                  211922.0                   Jarrestraße / Rambatzweg   \n",
       "3                  131649.0            Große Bergstraße / Jessenstraße   \n",
       "4                  140799.0  Bartholomäusstraße/Beim Alten Schützenhof   \n",
       "\n",
       "   END_RENTAL_ZONE_HAL_ID RENTAL_ZONE_HAL_SRC CITY_RENTAL_ZONE  \\\n",
       "0                131880.0            Standort          Hamburg   \n",
       "1                131648.0            Standort          Hamburg   \n",
       "2                138376.0            Standort          Hamburg   \n",
       "3                131649.0            Standort          Hamburg   \n",
       "4                211923.0            Standort          Hamburg   \n",
       "\n",
       "    TECHNICAL_INCOME_CHANNEL  \n",
       "0                 iPhone SRH  \n",
       "1                Android SRH  \n",
       "2  Techniker HH_119 (-2334-)  \n",
       "3    Terminal HH_46 (-2115-)  \n",
       "4                 iPhone SRH  "
      ]
     },
     "execution_count": 17,
     "metadata": {},
     "output_type": "execute_result"
    }
   ],
   "source": [
    "del df_2014['date']\n",
    "df_2014.head()"
   ]
  },
  {
   "cell_type": "code",
   "execution_count": 18,
   "metadata": {
    "collapsed": true
   },
   "outputs": [],
   "source": [
    "df_2014['DATE_BOOKING'] = pd.to_datetime(df_2014['DATE_BOOKING'])"
   ]
  },
  {
   "cell_type": "code",
   "execution_count": 19,
   "metadata": {},
   "outputs": [
    {
     "data": {
      "text/html": [
       "<div>\n",
       "<style>\n",
       "    .dataframe thead tr:only-child th {\n",
       "        text-align: right;\n",
       "    }\n",
       "\n",
       "    .dataframe thead th {\n",
       "        text-align: left;\n",
       "    }\n",
       "\n",
       "    .dataframe tbody tr th {\n",
       "        vertical-align: top;\n",
       "    }\n",
       "</style>\n",
       "<table border=\"1\" class=\"dataframe\">\n",
       "  <thead>\n",
       "    <tr style=\"text-align: right;\">\n",
       "      <th></th>\n",
       "      <th>CATEGORY_HAL_ID</th>\n",
       "      <th>VEHICLE_HAL_ID</th>\n",
       "      <th>DATE_BOOKING</th>\n",
       "      <th>DATE_FROM</th>\n",
       "      <th>DATE_UNTIL</th>\n",
       "      <th>START_RENTAL_ZONE</th>\n",
       "      <th>START_RENTAL_ZONE_HAL_ID</th>\n",
       "      <th>END_RENTAL_ZONE</th>\n",
       "      <th>END_RENTAL_ZONE_HAL_ID</th>\n",
       "      <th>RENTAL_ZONE_HAL_SRC</th>\n",
       "      <th>CITY_RENTAL_ZONE</th>\n",
       "      <th>TECHNICAL_INCOME_CHANNEL</th>\n",
       "    </tr>\n",
       "    <tr>\n",
       "      <th>DATE_BOOKING</th>\n",
       "      <th></th>\n",
       "      <th></th>\n",
       "      <th></th>\n",
       "      <th></th>\n",
       "      <th></th>\n",
       "      <th></th>\n",
       "      <th></th>\n",
       "      <th></th>\n",
       "      <th></th>\n",
       "      <th></th>\n",
       "      <th></th>\n",
       "      <th></th>\n",
       "    </tr>\n",
       "  </thead>\n",
       "  <tbody>\n",
       "    <tr>\n",
       "      <th>2014-01-01 00:34:54</th>\n",
       "      <td>51000</td>\n",
       "      <td>143517</td>\n",
       "      <td>2014-01-01 00:34:54</td>\n",
       "      <td>2014-01-01 00:34:54</td>\n",
       "      <td>2014-01-01 00:50:14</td>\n",
       "      <td>U-Bahn Baumwall</td>\n",
       "      <td>214170.0</td>\n",
       "      <td>Mönckebergstraße / Rosenstraße</td>\n",
       "      <td>131880.0</td>\n",
       "      <td>Standort</td>\n",
       "      <td>Hamburg</td>\n",
       "      <td>iPhone SRH</td>\n",
       "    </tr>\n",
       "    <tr>\n",
       "      <th>2014-01-01 01:39:55</th>\n",
       "      <td>51000</td>\n",
       "      <td>119830</td>\n",
       "      <td>2014-01-01 01:39:55</td>\n",
       "      <td>2014-01-01 01:39:55</td>\n",
       "      <td>2014-01-01 01:57:27</td>\n",
       "      <td>Bahnhof Altona Ost/Max-Brauer-Allee</td>\n",
       "      <td>131646.0</td>\n",
       "      <td>Schulterblatt/Eifflerstraße</td>\n",
       "      <td>131648.0</td>\n",
       "      <td>Standort</td>\n",
       "      <td>Hamburg</td>\n",
       "      <td>Android SRH</td>\n",
       "    </tr>\n",
       "    <tr>\n",
       "      <th>2014-01-01 01:40:20</th>\n",
       "      <td>51000</td>\n",
       "      <td>143501</td>\n",
       "      <td>2014-01-01 01:40:20</td>\n",
       "      <td>2014-01-01 01:40:20</td>\n",
       "      <td>2014-01-01 01:53:09</td>\n",
       "      <td>Weidestraße/Biedermannplatz</td>\n",
       "      <td>211922.0</td>\n",
       "      <td>Jarrestraße / Rambatzweg</td>\n",
       "      <td>138376.0</td>\n",
       "      <td>Standort</td>\n",
       "      <td>Hamburg</td>\n",
       "      <td>Techniker HH_119 (-2334-)</td>\n",
       "    </tr>\n",
       "    <tr>\n",
       "      <th>2014-01-01 01:56:00</th>\n",
       "      <td>51000</td>\n",
       "      <td>117519</td>\n",
       "      <td>2014-01-01 01:56:00</td>\n",
       "      <td>2014-01-01 01:56:00</td>\n",
       "      <td>2014-01-01 01:56:41</td>\n",
       "      <td>Große Bergstraße / Jessenstraße</td>\n",
       "      <td>131649.0</td>\n",
       "      <td>Große Bergstraße / Jessenstraße</td>\n",
       "      <td>131649.0</td>\n",
       "      <td>Standort</td>\n",
       "      <td>Hamburg</td>\n",
       "      <td>Terminal HH_46 (-2115-)</td>\n",
       "    </tr>\n",
       "    <tr>\n",
       "      <th>2014-01-01 02:05:55</th>\n",
       "      <td>51000</td>\n",
       "      <td>108641</td>\n",
       "      <td>2014-01-01 02:05:55</td>\n",
       "      <td>2014-01-01 02:05:55</td>\n",
       "      <td>2014-01-01 02:13:49</td>\n",
       "      <td>Mundsburg / Schürbeker Straße</td>\n",
       "      <td>140799.0</td>\n",
       "      <td>Bartholomäusstraße/Beim Alten Schützenhof</td>\n",
       "      <td>211923.0</td>\n",
       "      <td>Standort</td>\n",
       "      <td>Hamburg</td>\n",
       "      <td>iPhone SRH</td>\n",
       "    </tr>\n",
       "  </tbody>\n",
       "</table>\n",
       "</div>"
      ],
      "text/plain": [
       "                     CATEGORY_HAL_ID  VEHICLE_HAL_ID        DATE_BOOKING  \\\n",
       "DATE_BOOKING                                                               \n",
       "2014-01-01 00:34:54            51000          143517 2014-01-01 00:34:54   \n",
       "2014-01-01 01:39:55            51000          119830 2014-01-01 01:39:55   \n",
       "2014-01-01 01:40:20            51000          143501 2014-01-01 01:40:20   \n",
       "2014-01-01 01:56:00            51000          117519 2014-01-01 01:56:00   \n",
       "2014-01-01 02:05:55            51000          108641 2014-01-01 02:05:55   \n",
       "\n",
       "                               DATE_FROM           DATE_UNTIL  \\\n",
       "DATE_BOOKING                                                    \n",
       "2014-01-01 00:34:54  2014-01-01 00:34:54  2014-01-01 00:50:14   \n",
       "2014-01-01 01:39:55  2014-01-01 01:39:55  2014-01-01 01:57:27   \n",
       "2014-01-01 01:40:20  2014-01-01 01:40:20  2014-01-01 01:53:09   \n",
       "2014-01-01 01:56:00  2014-01-01 01:56:00  2014-01-01 01:56:41   \n",
       "2014-01-01 02:05:55  2014-01-01 02:05:55  2014-01-01 02:13:49   \n",
       "\n",
       "                                       START_RENTAL_ZONE  \\\n",
       "DATE_BOOKING                                               \n",
       "2014-01-01 00:34:54                      U-Bahn Baumwall   \n",
       "2014-01-01 01:39:55  Bahnhof Altona Ost/Max-Brauer-Allee   \n",
       "2014-01-01 01:40:20          Weidestraße/Biedermannplatz   \n",
       "2014-01-01 01:56:00      Große Bergstraße / Jessenstraße   \n",
       "2014-01-01 02:05:55        Mundsburg / Schürbeker Straße   \n",
       "\n",
       "                     START_RENTAL_ZONE_HAL_ID  \\\n",
       "DATE_BOOKING                                    \n",
       "2014-01-01 00:34:54                  214170.0   \n",
       "2014-01-01 01:39:55                  131646.0   \n",
       "2014-01-01 01:40:20                  211922.0   \n",
       "2014-01-01 01:56:00                  131649.0   \n",
       "2014-01-01 02:05:55                  140799.0   \n",
       "\n",
       "                                               END_RENTAL_ZONE  \\\n",
       "DATE_BOOKING                                                     \n",
       "2014-01-01 00:34:54             Mönckebergstraße / Rosenstraße   \n",
       "2014-01-01 01:39:55                Schulterblatt/Eifflerstraße   \n",
       "2014-01-01 01:40:20                   Jarrestraße / Rambatzweg   \n",
       "2014-01-01 01:56:00            Große Bergstraße / Jessenstraße   \n",
       "2014-01-01 02:05:55  Bartholomäusstraße/Beim Alten Schützenhof   \n",
       "\n",
       "                     END_RENTAL_ZONE_HAL_ID RENTAL_ZONE_HAL_SRC  \\\n",
       "DATE_BOOKING                                                      \n",
       "2014-01-01 00:34:54                131880.0            Standort   \n",
       "2014-01-01 01:39:55                131648.0            Standort   \n",
       "2014-01-01 01:40:20                138376.0            Standort   \n",
       "2014-01-01 01:56:00                131649.0            Standort   \n",
       "2014-01-01 02:05:55                211923.0            Standort   \n",
       "\n",
       "                    CITY_RENTAL_ZONE   TECHNICAL_INCOME_CHANNEL  \n",
       "DATE_BOOKING                                                     \n",
       "2014-01-01 00:34:54          Hamburg                 iPhone SRH  \n",
       "2014-01-01 01:39:55          Hamburg                Android SRH  \n",
       "2014-01-01 01:40:20          Hamburg  Techniker HH_119 (-2334-)  \n",
       "2014-01-01 01:56:00          Hamburg    Terminal HH_46 (-2115-)  \n",
       "2014-01-01 02:05:55          Hamburg                 iPhone SRH  "
      ]
     },
     "execution_count": 19,
     "metadata": {},
     "output_type": "execute_result"
    }
   ],
   "source": [
    "df_2014.index = df_2014['DATE_BOOKING']\n",
    "df_2014.head()"
   ]
  },
  {
   "cell_type": "code",
   "execution_count": 20,
   "metadata": {
    "collapsed": true
   },
   "outputs": [],
   "source": [
    "df_month = df_2014.groupby(pd.TimeGrouper(freq='M'))"
   ]
  },
  {
   "cell_type": "code",
   "execution_count": 21,
   "metadata": {
    "collapsed": true
   },
   "outputs": [],
   "source": [
    "tem = df_month['DATE_BOOKING'].count()"
   ]
  },
  {
   "cell_type": "code",
   "execution_count": 22,
   "metadata": {
    "collapsed": true
   },
   "outputs": [],
   "source": [
    "month_name=[]\n",
    "month_wise_booking=[]\n",
    "for p,l in tem.items():\n",
    "    month_name.append(calendar.month_abbr[p.month])\n",
    "    month_wise_booking.append(l)"
   ]
  },
  {
   "cell_type": "code",
   "execution_count": 23,
   "metadata": {},
   "outputs": [
    {
     "name": "stdout",
     "output_type": "stream",
     "text": [
      "['Jan', 'Feb', 'Mar', 'Apr', 'May', 'Jun', 'Jul', 'Aug', 'Sep', 'Oct', 'Nov', 'Dec']\n",
      "[142368, 170409, 294933, 383128, 446986, 490295, 544645, 476257, 444825, 415695, 313274, 162529]\n"
     ]
    }
   ],
   "source": [
    "print(month_name)\n",
    "print(month_wise_booking)"
   ]
  },
  {
   "cell_type": "code",
   "execution_count": 24,
   "metadata": {},
   "outputs": [
    {
     "data": {
      "image/png": "[encoded data removed]",
      "text/plain": [
       "<matplotlib.figure.Figure at 0x7fab5a529e80>"
      ]
     },
     "metadata": {},
     "output_type": "display_data"
    }
   ],
   "source": [
    "x_plot = np.arange(len(month_name))\n",
    "plt.figure(figsize=(8,6))\n",
    "plt.title('Month Wise Booking', fontsize=15, fontweight='bold')\n",
    "p = plt.bar(x_plot+1, month_wise_booking)\n",
    "plt.xticks(x_plot+1, month_name, rotation = 'vertical')\n",
    "plt.show()"
   ]
  },
  {
   "cell_type": "code",
   "execution_count": 25,
   "metadata": {},
   "outputs": [
    {
     "data": {
      "text/plain": [
       "CATEGORY_HAL_ID             4285344\n",
       "VEHICLE_HAL_ID              4285344\n",
       "DATE_BOOKING                4285344\n",
       "DATE_FROM                   4285344\n",
       "DATE_UNTIL                  4285344\n",
       "START_RENTAL_ZONE           3288450\n",
       "START_RENTAL_ZONE_HAL_ID    4156336\n",
       "END_RENTAL_ZONE             3265396\n",
       "END_RENTAL_ZONE_HAL_ID      4133821\n",
       "RENTAL_ZONE_HAL_SRC         4252326\n",
       "CITY_RENTAL_ZONE            4285344\n",
       "TECHNICAL_INCOME_CHANNEL    4209687\n",
       "dtype: int64"
      ]
     },
     "execution_count": 25,
     "metadata": {},
     "output_type": "execute_result"
    }
   ],
   "source": [
    "df_2014.count()"
   ]
  },
  {
   "cell_type": "code",
   "execution_count": 26,
   "metadata": {
    "collapsed": true
   },
   "outputs": [],
   "source": [
    "df = df_2014.dropna(subset = ['TECHNICAL_INCOME_CHANNEL'],how='any', axis=0)"
   ]
  },
  {
   "cell_type": "code",
   "execution_count": 27,
   "metadata": {},
   "outputs": [
    {
     "data": {
      "text/plain": [
       "CATEGORY_HAL_ID             4209687\n",
       "VEHICLE_HAL_ID              4209687\n",
       "DATE_BOOKING                4209687\n",
       "DATE_FROM                   4209687\n",
       "DATE_UNTIL                  4209687\n",
       "START_RENTAL_ZONE           3232113\n",
       "START_RENTAL_ZONE_HAL_ID    4083266\n",
       "END_RENTAL_ZONE             3208994\n",
       "END_RENTAL_ZONE_HAL_ID      4060444\n",
       "RENTAL_ZONE_HAL_SRC         4177279\n",
       "CITY_RENTAL_ZONE            4209687\n",
       "TECHNICAL_INCOME_CHANNEL    4209687\n",
       "dtype: int64"
      ]
     },
     "execution_count": 27,
     "metadata": {},
     "output_type": "execute_result"
    }
   ],
   "source": [
    "df.count()"
   ]
  },
  {
   "cell_type": "code",
   "execution_count": 28,
   "metadata": {
    "collapsed": true
   },
   "outputs": [],
   "source": [
    "channel = df['TECHNICAL_INCOME_CHANNEL']"
   ]
  },
  {
   "cell_type": "code",
   "execution_count": 29,
   "metadata": {
    "collapsed": true
   },
   "outputs": [],
   "source": [
    "channel_group = {'android':[], 'iphone': [], 'windows': [], 'other': []}\n",
    "for j in channel:\n",
    "    if ('Android' in j):\n",
    "        channel_group['android'].append(j)\n",
    "    elif ('iPhone' in j):\n",
    "        channel_group['iphone'].append(j)\n",
    "    elif ('Windows' in j):\n",
    "        channel_group['windows'].append(j)\n",
    "    else:\n",
    "        channel_group['other'].append(j)"
   ]
  },
  {
   "cell_type": "code",
   "execution_count": 30,
   "metadata": {},
   "outputs": [
    {
     "name": "stdout",
     "output_type": "stream",
     "text": [
      "['android', 'iphone', 'windows', 'other']\n",
      "[886498, 1323696, 8051, 1991442]\n"
     ]
    }
   ],
   "source": [
    "groups, group_count = [],[]\n",
    "for i in channel_group:\n",
    "    groups.append(i)\n",
    "    group_count.append(len(channel_group[i]))\n",
    "print(groups)\n",
    "print(group_count)"
   ]
  },
  {
   "cell_type": "code",
   "execution_count": 31,
   "metadata": {
    "scrolled": false
   },
   "outputs": [
    {
     "data": {
      "image/png": "[encoded data removed]",
      "text/plain": [
       "<matplotlib.figure.Figure at 0x7fab5a551b38>"
      ]
     },
     "metadata": {},
     "output_type": "display_data"
    }
   ],
   "source": [
    "x_plot = np.arange(len(groups))\n",
    "plt.figure(figsize=(8,6))\n",
    "plt.title('Channels', fontsize=15, fontweight='bold')\n",
    "p = plt.bar(x_plot+1, group_count)\n",
    "plt.xticks(x_plot+1, groups, fontsize=15)\n",
    "plt.show()"
   ]
  },
  {
   "cell_type": "code",
   "execution_count": null,
   "metadata": {
    "collapsed": true
   },
   "outputs": [],
   "source": []
  }
 ],
 "metadata": {
  "kernelspec": {
   "display_name": "Python 3",
   "language": "python",
   "name": "python3"
  },
  "language_info": {
   "codemirror_mode": {
    "name": "ipython",
    "version": 3
   },
   "file_extension": ".py",
   "mimetype": "text/x-python",
   "name": "python",
   "nbconvert_exporter": "python",
   "pygments_lexer": "ipython3",
   "version": "3.6.3"
  }
 },
 "nbformat": 4,
 "nbformat_minor": 2
}
